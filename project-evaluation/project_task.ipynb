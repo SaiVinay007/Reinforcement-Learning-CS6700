{
 "cells": [
  {
   "cell_type": "code",
   "execution_count": 3,
   "metadata": {},
   "outputs": [
    {
     "name": "stderr",
     "output_type": "stream",
     "text": [
      "/opt/anaconda3/lib/python3.6/site-packages/h5py/__init__.py:36: FutureWarning: Conversion of the second argument of issubdtype from `float` to `np.floating` is deprecated. In future, it will be treated as `np.float64 == np.dtype(float).type`.\n",
      "  from ._conv import register_converters as _register_converters\n"
     ]
    }
   ],
   "source": [
    "import tensorflow as tf"
   ]
  },
  {
   "cell_type": "code",
   "execution_count": 196,
   "metadata": {},
   "outputs": [],
   "source": [
    "def customOps(n):\n",
    "    \n",
    "    customOps.mat = tf.placeholder(tf.float32, shape = [n, n])    \n",
    "    \n",
    "    # 1.Transpose the elements in the bottom-right triangle of A\n",
    "\n",
    "    '''\n",
    "    A_transpose             : transpose of matrix A\n",
    "    A_rev                   : flip left to right of matrix A\n",
    "    A_transpose_rev         : flip left to right of A_transpose\n",
    "    upper                   : upper triangular matrix of A_rev\n",
    "    lower                   : lower triangular matrix of A_transpose_rev\n",
    "    upper_rev               : flip left to right of upper\n",
    "    lower_rev               : flip left to right of lower\n",
    "    diagonal                : diagonal matrix of A_rev\n",
    "    diagonal_rev            : flip left to right of diagonal\n",
    "    B                       : Transpose the elements in the bottom-right triangle of A  \n",
    "    '''\n",
    "\n",
    "#     A_transpose = tf.transpose(customOps.mat)                         \n",
    "#     A_rev = tf.reverse(customOps.mat, [-1])   \n",
    "    \n",
    "#     A_transpose_rev = tf.reverse(A_transpose, [-1])             \n",
    "    \n",
    "#     upper =  tf.matrix_band_part(A_rev, 0, -1)                  \n",
    "#     lower = tf.matrix_band_part(A_transpose_rev, -1, 0)\n",
    "    \n",
    "#     upper_rev = tf.reverse(upper, [-1])\n",
    "#     lower_rev = tf.reverse(lower, [-1])\n",
    "    \n",
    "    diagonal = tf.matrix_band_part(tf.reverse(tf.transpose(customOps.mat), [-1]), 0, 0)  # diagonal matrix\n",
    "    diagonal_rev = tf.reverse(tf.matrix_band_part(tf.reverse(tf.transpose(customOps.mat), [-1]), 0, 0), [-1])\n",
    "    \n",
    "    upper_left_part = tf.reverse(tf.matrix_band_part(tf.reverse(customOps.mat, [-1]), 0, -1),[-1])\n",
    "    bottom_right_part =  tf.reverse(tf.matrix_band_part(tf.reverse(tf.transpose(customOps.mat), [-1]), -1, 0), [-1])\n",
    "    \n",
    "#     A = upper_rev + lower_rev - diagonal_rev\n",
    "    A = upper_left_part + bottom_right_part - diagonal_rev\n",
    "\n",
    "    # 2.Take the maximum value along the columns of A to get a vector m~ \n",
    "    \n",
    "    m = tf.reduce_max(A, axis = 1)\n",
    "    \n",
    "    \n",
    "    # 3.softmax matrix\n",
    "    # dont forget to convert the data type to float before use\n",
    "    temp = []\n",
    "    for i in range(n):\n",
    "        padding = [[0,i]]\n",
    "        temp.append(tf.pad(tf.nn.softmax(tf.slice(m,[0],[n-i]), axis = 0), padding, mode='CONSTANT', name=None))\n",
    "    B = tf.convert_to_tensor(temp)\n",
    "        \n",
    "    # 4.Sum along the rows of B to obtain vector ~v 1 \n",
    "    \n",
    "    v1 = tf.reduce_sum(B, axis = 1)\n",
    "    \n",
    "    \n",
    "    # Sum along the columns of B to get another vector ~v 2 \n",
    "    \n",
    "    v2 = tf.reduce_sum(B, axis = 0)\n",
    "    \n",
    "    \n",
    "    # 5.Concatenate the two vectors and take a softmax of this vector: ~v = softmax(concat(~v 1 , ~v 2 ))\n",
    "    \n",
    "    v  = tf.nn.softmax(tf.concat([v1, v2], axis = 0), axis = 0)\n",
    "    \n",
    "    \n",
    "    # 6.Get the index number in vector ~v with maximum value\n",
    "    \n",
    "    index = tf.argmax(v, axis = 0)\n",
    "    \n",
    "    \n",
    "    # 7.If index number is greater than n/3 : \n",
    "    #      finalVal = ||v 1 − ~v 2 || 2  \n",
    "    # else :\n",
    "    #      finalval = ||v 1 + ~v 2 || 2\n",
    "    \n",
    "    finalVal = tf.cond(index > tf.cast((n/3),tf.int64), lambda : tf.square(v1-v2), lambda : tf.square(v1+v2))\n",
    "    \n",
    "    \n",
    "    return finalVal\n"
   ]
  },
  {
   "cell_type": "code",
   "execution_count": 197,
   "metadata": {},
   "outputs": [
    {
     "name": "stdout",
     "output_type": "stream",
     "text": [
      "[3.8131134e-09 1.2882569e-01 5.8674649e-04 1.1206542e-01]\n"
     ]
    }
   ],
   "source": [
    "import numpy as np\n",
    "\n",
    "if __name__ == '__main__':\n",
    "    mat = np.asarray([[1, 2, 3, 4],\n",
    "                      [5, 6, 7, 8],\n",
    "                      [9, 10, 11, 12],\n",
    "                      [13, 14, 15, 16]])\n",
    "    n = mat.shape[0]\n",
    "\n",
    "    finalVal = customOps(n)\n",
    "\n",
    "    init = tf.global_variables_initializer()\n",
    "    sess = tf.Session()\n",
    "    sess.run(init)\n",
    "    outVal = sess.run(finalVal, feed_dict={customOps.mat: mat})\n",
    "    print(outVal)\n",
    "    sess.close()"
   ]
  },
  {
   "cell_type": "code",
   "execution_count": null,
   "metadata": {},
   "outputs": [],
   "source": []
  },
  {
   "cell_type": "code",
   "execution_count": null,
   "metadata": {},
   "outputs": [],
   "source": []
  },
  {
   "cell_type": "code",
   "execution_count": null,
   "metadata": {},
   "outputs": [],
   "source": []
  },
  {
   "cell_type": "code",
   "execution_count": null,
   "metadata": {},
   "outputs": [],
   "source": []
  },
  {
   "cell_type": "code",
   "execution_count": null,
   "metadata": {},
   "outputs": [],
   "source": []
  },
  {
   "cell_type": "code",
   "execution_count": 74,
   "metadata": {},
   "outputs": [
    {
     "name": "stdout",
     "output_type": "stream",
     "text": [
      "[[ 1.  2.  3.  4.]\n",
      " [ 5.  6.  7.  0.]\n",
      " [ 9. 10.  0.  0.]\n",
      " [13.  0.  0.  0.]]\n"
     ]
    }
   ],
   "source": [
    "with tf.Session() as sess:\n",
    "    mat = np.asarray([[1., 2., 3., 4.],\n",
    "                      [5., 6., 7., 8.],\n",
    "                      [9., 10., 11., 12.],\n",
    "                      [13., 14., 15., 16.]])\n",
    "    \n",
    "#     mask_a = tf.matrix_band_part(mat, 0, -1) # Upper triangular matrix of 0s and 1s\n",
    "#     rev = tf.reverse(mask_a, [-1])\n",
    "    rev1 = tf.reverse(mat, [-1])\n",
    "    mask_a1 = tf.matrix_band_part(rev1, 0, -1) # Upper triangular matrix of 0s and 1s\n",
    "    rev2 = tf.reverse(mask_a1, [-1])\n",
    "#     mask_b = tf.matrix_band_part(B, 0, 0)  # Diagonal matrix of 0s and 1s\n",
    "#     mask = tf.cast(mask_a - mask_b, dtype=tf.bool) # Make a bool mask\n",
    "\n",
    "#     upper_triangular_flat = tf.boolean_mask(B, mask)\n",
    "    \n",
    "#     print(sess.run(mat))\n",
    "    print(sess.run(rev2))    "
   ]
  },
  {
   "cell_type": "code",
   "execution_count": 75,
   "metadata": {},
   "outputs": [
    {
     "name": "stdout",
     "output_type": "stream",
     "text": [
      "[[ 4.  8. 12. 16.]\n",
      " [ 4.  8. 12. 16.]\n",
      " [ 4.  8. 12. 16.]\n",
      " [ 4.  8. 12. 16.]]\n",
      "[[6.03167786e-06 3.29318453e-04 1.79801783e-02 9.81684472e-01]\n",
      " [6.03167786e-06 3.29318453e-04 1.79801783e-02 9.81684472e-01]\n",
      " [6.03167786e-06 3.29318453e-04 1.79801783e-02 9.81684472e-01]\n",
      " [6.03167786e-06 3.29318453e-04 1.79801783e-02 9.81684472e-01]]\n"
     ]
    }
   ],
   "source": [
    "# m1 = [1,2,3,4]\n",
    "# a = tf.stack([m1 for i in range(10)] )\n",
    "# rev1 = tf.reverse(mat, [-1])\n",
    "# mask_a1 = tf.matrix_band_part(rev1, 0, -1) # Upper triangular matrix of 0s and 1s\n",
    "# rev2 = tf.reverse(mask_a1, [-1])\n",
    "# # B = tf.nn.softmax(rev2, axis = 0)\n",
    "m = tf.reduce_max(mat, axis = 1)\n",
    "B = tf.reshape(tf.tile(m,[4]), [4,4])\n",
    "C = tf.nn.softmax(B, axis = 1)\n",
    "\n",
    "with tf.Session() as sess:\n",
    "#     print(sess.run(rev2))\n",
    "    print(sess.run(B))    \n",
    "    print(sess.run(C))        "
   ]
  },
  {
   "cell_type": "code",
   "execution_count": 69,
   "metadata": {},
   "outputs": [],
   "source": [
    "# customOps.A = mat    \n",
    "    \n",
    "# # 1.Transpose the elements in the bottom-right triangle of A \n",
    "# B = tf.transpose(customOps.A)\n",
    "# rev_upper = tf.reverse(customOps.A, [-1])\n",
    "# rev_lower = tf.reverse(B, [-1])\n",
    "# upper =  tf.matrix_band_part(rev_upper, 0, -1)\n",
    "# lower = tf.matrix_band_part(rev_lower, -1, 0)\n",
    "# final_upper = tf.reverse(upper, [-1])\n",
    "# final_lower = tf.reverse(lower, [-1])\n",
    "# diagonal = tf.matrix_band_part(rev_lower, 0, 0)\n",
    "# rev_diagonal = tf.reverse(diagonal, [-1])\n",
    "# val = final_upper + final_lower - rev_diagonal\n",
    "\n",
    "# n = 3\n",
    "# m = tf.reduce_max(B, axis = 1)\n",
    "# b = tf.reshape(tf.tile(m,[n]),[n,n])\n",
    "# # b = tf.tile(m,[n])\n",
    "\n",
    "# with tf.Session() as sess:\n",
    "#     print(sess.run(customOps.A))\n",
    "#     print(sess.run(upper))\n",
    "#     print(customOps.A)\n",
    "#     print(sess.run(rev_upper))\n",
    "#     print(sess.run(B))\n",
    "#     print(sess.run(rev_lower))\n",
    "#     print(sess.run(final_upper))\n",
    "#     print(sess.run(final_lower))   \n",
    "#     print(sess.run(diagonal))\n",
    "#     print(sess.run(m))\n",
    "    \n",
    "#     print(sess.run(b))"
   ]
  },
  {
   "cell_type": "code",
   "execution_count": 121,
   "metadata": {
    "scrolled": true
   },
   "outputs": [
    {
     "name": "stdout",
     "output_type": "stream",
     "text": [
      "[1 2 3 0 0]\n"
     ]
    }
   ],
   "source": [
    "tmp = [[1,2,3],\n",
    "      [1,2,3]]\n",
    "tmp1 = [1,2,3]\n",
    "paddings = [[0,1],[0,1]]\n",
    "pad = [[0,2]]\n",
    "val = tf.pad(tmp1, pad, mode='CONSTANT', name=None)\n",
    "with tf.Session() as sess:\n",
    "    print(sess.run(val))"
   ]
  },
  {
   "cell_type": "code",
   "execution_count": 122,
   "metadata": {},
   "outputs": [
    {
     "name": "stdout",
     "output_type": "stream",
     "text": [
      "[0.26894143 0.7310586  0.         0.        ]\n"
     ]
    }
   ],
   "source": [
    "mat = [1.,2.,3.,4.]\n",
    "# sof = tf.slice(mat,[0],[2])\n",
    "sof = tf.pad(tf.nn.softmax(tf.slice(mat,[0],[2]), axis = 0), pad, mode='CONSTANT', name=None)\n",
    "with tf.Session() as sess:\n",
    "    print(sess.run(sof))"
   ]
  },
  {
   "cell_type": "code",
   "execution_count": 163,
   "metadata": {},
   "outputs": [
    {
     "name": "stdout",
     "output_type": "stream",
     "text": [
      "[[6.03167786e-06 3.29318453e-04 1.79801783e-02 9.81684472e-01]\n",
      " [3.29320439e-04 1.79802867e-02 9.81690393e-01 0.00000000e+00]\n",
      " [1.79862100e-02 9.82013790e-01 0.00000000e+00 0.00000000e+00]\n",
      " [1.00000000e+00 0.00000000e+00 0.00000000e+00 0.00000000e+00]]\n"
     ]
    }
   ],
   "source": [
    "mat = np.asarray([[1., 2., 3., 4.],\n",
    "                      [5., 6., 7., 8.],\n",
    "                      [9., 10., 11., 12.],\n",
    "                      [13., 14., 15., 16.]])\n",
    "m = tf.reduce_max(mat, axis = 1)\n",
    "with tf.Session() as sess:\n",
    "\n",
    "#     temp = tf.ones([4,4],dtype=tf.float32)\n",
    "    temp  =[]\n",
    "    for i in range(0,4):\n",
    "        pads = [[0,i]]\n",
    "        sof = tf.slice(m,[0],[4-i])\n",
    "        \n",
    "#         temp[0:] = tf.pad(tf.nn.softmax(tf.slice(m,[0],[4-i]), axis = 0), pads, mode='CONSTANT', name=None)\n",
    "\n",
    "        temp.append(tf.pad(tf.nn.softmax(tf.slice(m,[0],[4-i]), axis = 0), pads, mode='CONSTANT', name=None))\n",
    "#         temp = tf.reshape(temp, [1,4])\n",
    "        tmp = tf.convert_to_tensor(temp)\n",
    "    print(sess.run((tmp)))\n"
   ]
  },
  {
   "cell_type": "code",
   "execution_count": 151,
   "metadata": {},
   "outputs": [
    {
     "name": "stdout",
     "output_type": "stream",
     "text": [
      "Tensor(\"Max_78:0\", shape=(4,), dtype=float64)\n"
     ]
    }
   ],
   "source": [
    "mat = np.asarray([[1., 2., 3., 4.],\n",
    "                      [5., 6., 7., 8.],\n",
    "                      [9., 10., 11., 12.],\n",
    "                      [13., 14., 15., 16.]])\n",
    "m = tf.reduce_max(mat, axis = 1)\n",
    "with tf.Session() as sess:\n",
    "    for i in range(3):\n",
    "        m.append()\n",
    "    "
   ]
  },
  {
   "cell_type": "code",
   "execution_count": null,
   "metadata": {},
   "outputs": [],
   "source": []
  }
 ],
 "metadata": {
  "kernelspec": {
   "display_name": "Python 3",
   "language": "python",
   "name": "python3"
  },
  "language_info": {
   "codemirror_mode": {
    "name": "ipython",
    "version": 3
   },
   "file_extension": ".py",
   "mimetype": "text/x-python",
   "name": "python",
   "nbconvert_exporter": "python",
   "pygments_lexer": "ipython3",
   "version": "3.6.5"
  }
 },
 "nbformat": 4,
 "nbformat_minor": 2
}
