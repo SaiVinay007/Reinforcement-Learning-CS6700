{
 "cells": [
  {
   "cell_type": "code",
   "execution_count": 1,
   "metadata": {},
   "outputs": [
    {
     "name": "stderr",
     "output_type": "stream",
     "text": [
      "/opt/anaconda3/lib/python3.6/site-packages/h5py/__init__.py:36: FutureWarning: Conversion of the second argument of issubdtype from `float` to `np.floating` is deprecated. In future, it will be treated as `np.float64 == np.dtype(float).type`.\n",
      "  from ._conv import register_converters as _register_converters\n"
     ]
    }
   ],
   "source": [
    "import tensorflow as tf"
   ]
  },
  {
   "cell_type": "code",
   "execution_count": 2,
   "metadata": {},
   "outputs": [],
   "source": [
    "def customOps(n):\n",
    "    \n",
    "    customOps.A = tf.placeholder(tf.float32, shape = [n, n])    \n",
    "    \n",
    "    # 1.Transpose the elements in the bottom-right triangle of A \n",
    "    \n",
    "    A_transpose = tf.transpose(customOps.A)                   # transpose of A\n",
    "    A_reverse = tf.reverse(customOps.A, [-1])                 # mirror image of A transpose\n",
    "    A_transpose_reverse = tf.reverse(A_transpose, [-1])       # mirror image of A transpose\n",
    "    upper =  tf.matrix_band_part(A_reverse, 0, -1)          \n",
    "    lower = tf.matrix_band_part(A_transpose_reverse, -1, 0)\n",
    "    final_upper = tf.reverse(upper, [-1])\n",
    "    final_lower = tf.reverse(lower, [-1])\n",
    "    diagonal = tf.matrix_band_part(A_reverse, 0, 0)  # diagonal matrix\n",
    "    rev_diagonal = tf.reverse(diagonal, [-1])\n",
    "    B = final_upper + final_lower - rev_diagonal\n",
    "    \n",
    "\n",
    "    # 2.Take the maximum value along the columns of A to get a vector m~ \n",
    "    \n",
    "    m = tf.reduce_max(B, axis = 1)\n",
    "    \n",
    "    \n",
    "    # 3.softmax matrix \n",
    "    \n",
    "    B = tf.reshape(tf.tile(m,[n]),[n,n])\n",
    "    rev1 = tf.reverse(B, [-1])\n",
    "    mask_a = tf.matrix_band_part(rev1, 0, -1) # Upper triangular matrix of rev1\n",
    "    rev2 = tf.reverse(mask_a1, [-1])\n",
    "    B = tf.nn.softmax(B, axis = 0)\n",
    "            \n",
    "    \n",
    "    # 4.Sum along the rows of B to obtain vector ~v 1 \n",
    "    \n",
    "    v1 = tf.reduce_sum(B, axis = 1)\n",
    "    \n",
    "    \n",
    "    # Sum along the columns of B to get another vector ~v 2 \n",
    "    \n",
    "    v2 = tf.reduce_sum(B, axis = 0)\n",
    "    \n",
    "    \n",
    "    # 5.Concatenate the two vectors and take a softmax of this vector: ~v = softmax(concat(~v 1 , ~v 2 ))\n",
    "    \n",
    "    v  = tf.nn.softmax(tf.concat([v1, v2], axis = 0), axis = 0)\n",
    "    \n",
    "    \n",
    "    # 6.Get the index number in vector ~v with maximum value\n",
    "    \n",
    "    index = tf.argmax(v, axis = 0)\n",
    "    \n",
    "    \n",
    "    # 7.If index number is greater than n/3 : \n",
    "    #      finalVal = ||v 1 − ~v 2 || 2  \n",
    "    # else :\n",
    "    #      finalval = ||v 1 + ~v 2 || 2\n",
    "    \n",
    "    finalVal = tf.cond(index > tf.cast((n/3),tf.int64), lambda : tf.square(v1-v2), lambda : tf.square(v1+v2))\n",
    "    \n",
    "    \n",
    "    return finalVal"
   ]
  },
  {
   "cell_type": "code",
   "execution_count": 3,
   "metadata": {},
   "outputs": [
    {
     "ename": "NameError",
     "evalue": "name 'mask_a1' is not defined",
     "output_type": "error",
     "traceback": [
      "\u001b[0;31m---------------------------------------------------------------------------\u001b[0m",
      "\u001b[0;31mNameError\u001b[0m                                 Traceback (most recent call last)",
      "\u001b[0;32m<ipython-input-3-1149556b96f9>\u001b[0m in \u001b[0;36m<module>\u001b[0;34m()\u001b[0m\n\u001b[1;32m      7\u001b[0m     \u001b[0mn\u001b[0m \u001b[0;34m=\u001b[0m \u001b[0mmat\u001b[0m\u001b[0;34m.\u001b[0m\u001b[0mshape\u001b[0m\u001b[0;34m[\u001b[0m\u001b[0;36m0\u001b[0m\u001b[0;34m]\u001b[0m\u001b[0;34m\u001b[0m\u001b[0m\n\u001b[1;32m      8\u001b[0m \u001b[0;34m\u001b[0m\u001b[0m\n\u001b[0;32m----> 9\u001b[0;31m     \u001b[0mfinalVal\u001b[0m \u001b[0;34m=\u001b[0m \u001b[0mcustomOps\u001b[0m\u001b[0;34m(\u001b[0m\u001b[0mn\u001b[0m\u001b[0;34m)\u001b[0m\u001b[0;34m\u001b[0m\u001b[0m\n\u001b[0m\u001b[1;32m     10\u001b[0m \u001b[0;34m\u001b[0m\u001b[0m\n\u001b[1;32m     11\u001b[0m     \u001b[0minit\u001b[0m \u001b[0;34m=\u001b[0m \u001b[0mtf\u001b[0m\u001b[0;34m.\u001b[0m\u001b[0mglobal_variables_initializer\u001b[0m\u001b[0;34m(\u001b[0m\u001b[0;34m)\u001b[0m\u001b[0;34m\u001b[0m\u001b[0m\n",
      "\u001b[0;32m<ipython-input-2-5661c6ff8ea1>\u001b[0m in \u001b[0;36mcustomOps\u001b[0;34m(n)\u001b[0m\n\u001b[1;32m     27\u001b[0m     \u001b[0mrev1\u001b[0m \u001b[0;34m=\u001b[0m \u001b[0mtf\u001b[0m\u001b[0;34m.\u001b[0m\u001b[0mreverse\u001b[0m\u001b[0;34m(\u001b[0m\u001b[0mB\u001b[0m\u001b[0;34m,\u001b[0m \u001b[0;34m[\u001b[0m\u001b[0;34m-\u001b[0m\u001b[0;36m1\u001b[0m\u001b[0;34m]\u001b[0m\u001b[0;34m)\u001b[0m\u001b[0;34m\u001b[0m\u001b[0m\n\u001b[1;32m     28\u001b[0m     \u001b[0mmask_a\u001b[0m \u001b[0;34m=\u001b[0m \u001b[0mtf\u001b[0m\u001b[0;34m.\u001b[0m\u001b[0mmatrix_band_part\u001b[0m\u001b[0;34m(\u001b[0m\u001b[0mrev1\u001b[0m\u001b[0;34m,\u001b[0m \u001b[0;36m0\u001b[0m\u001b[0;34m,\u001b[0m \u001b[0;34m-\u001b[0m\u001b[0;36m1\u001b[0m\u001b[0;34m)\u001b[0m \u001b[0;31m# Upper triangular matrix of rev1\u001b[0m\u001b[0;34m\u001b[0m\u001b[0m\n\u001b[0;32m---> 29\u001b[0;31m     \u001b[0mrev2\u001b[0m \u001b[0;34m=\u001b[0m \u001b[0mtf\u001b[0m\u001b[0;34m.\u001b[0m\u001b[0mreverse\u001b[0m\u001b[0;34m(\u001b[0m\u001b[0mmask_a1\u001b[0m\u001b[0;34m,\u001b[0m \u001b[0;34m[\u001b[0m\u001b[0;34m-\u001b[0m\u001b[0;36m1\u001b[0m\u001b[0;34m]\u001b[0m\u001b[0;34m)\u001b[0m\u001b[0;34m\u001b[0m\u001b[0m\n\u001b[0m\u001b[1;32m     30\u001b[0m     \u001b[0mB\u001b[0m \u001b[0;34m=\u001b[0m \u001b[0mtf\u001b[0m\u001b[0;34m.\u001b[0m\u001b[0mnn\u001b[0m\u001b[0;34m.\u001b[0m\u001b[0msoftmax\u001b[0m\u001b[0;34m(\u001b[0m\u001b[0mB\u001b[0m\u001b[0;34m,\u001b[0m \u001b[0maxis\u001b[0m \u001b[0;34m=\u001b[0m \u001b[0;36m0\u001b[0m\u001b[0;34m)\u001b[0m\u001b[0;34m\u001b[0m\u001b[0m\n\u001b[1;32m     31\u001b[0m \u001b[0;34m\u001b[0m\u001b[0m\n",
      "\u001b[0;31mNameError\u001b[0m: name 'mask_a1' is not defined"
     ]
    }
   ],
   "source": [
    "import numpy as np\n",
    "\n",
    "if __name__ == '__main__':\n",
    "    mat = np.asarray([[0, 1, 2],\n",
    "                      [1, 0, 3],\n",
    "                      [2, 5, 4]])\n",
    "    n = mat.shape[0]\n",
    "\n",
    "    finalVal = customOps(n)\n",
    "\n",
    "    init = tf.global_variables_initializer()\n",
    "    sess = tf.Session()\n",
    "    sess.run(init)\n",
    "    outVal = sess.run(finalVal, feed_dict={customOps.A: mat})\n",
    "    print(outVal)\n",
    "    sess.close()"
   ]
  },
  {
   "cell_type": "code",
   "execution_count": null,
   "metadata": {},
   "outputs": [],
   "source": [
    "with tf.Session() as sess:\n",
    "    mat = np.asarray([[1, 2, 3, 4],\n",
    "                      [5, 6, 7, 8],\n",
    "                      [9, 10, 11, 12],\n",
    "                      [13, 14, 15, 16]])\n",
    "    \n",
    "#     mask_a = tf.matrix_band_part(mat, 0, -1) # Upper triangular matrix of 0s and 1s\n",
    "#     rev = tf.reverse(mask_a, [-1])\n",
    "    rev1 = tf.reverse(mat, [-1])\n",
    "    mask_a1 = tf.matrix_band_part(rev1, 0, -1) # Upper triangular matrix of 0s and 1s\n",
    "    rev2 = tf.reverse(mask_a1, [-1])\n",
    "#     mask_b = tf.matrix_band_part(B, 0, 0)  # Diagonal matrix of 0s and 1s\n",
    "#     mask = tf.cast(mask_a - mask_b, dtype=tf.bool) # Make a bool mask\n",
    "\n",
    "#     upper_triangular_flat = tf.boolean_mask(B, mask)\n",
    "    \n",
    "#     print(sess.run(mat))\n",
    "    print(sess.run(rev2))    "
   ]
  },
  {
   "cell_type": "code",
   "execution_count": null,
   "metadata": {},
   "outputs": [],
   "source": [
    "# m1 = [1,2,3,4]\n",
    "# a = tf.stack([m1 for i in range(10)] )\n",
    "# rev1 = tf.reverse(mat, [-1])\n",
    "# mask_a1 = tf.matrix_band_part(rev1, 0, -1) # Upper triangular matrix of 0s and 1s\n",
    "# rev2 = tf.reverse(mask_a1, [-1])\n",
    "# # B = tf.nn.softmax(rev2, axis = 0)\n",
    "m = tf.reduce_max(mat, axis = 1)\n",
    "\n",
    "\n",
    "with tf.Session() as sess:\n",
    "#     print(sess.run(rev2))\n",
    "    print(sess.run(m))    "
   ]
  },
  {
   "cell_type": "code",
   "execution_count": null,
   "metadata": {},
   "outputs": [],
   "source": [
    "customOps.A = mat    \n",
    "    \n",
    "# 1.Transpose the elements in the bottom-right triangle of A \n",
    "B = tf.transpose(customOps.A)\n",
    "rev_upper = tf.reverse(customOps.A, [-1])\n",
    "rev_lower = tf.reverse(B, [-1])\n",
    "upper =  tf.matrix_band_part(rev_upper, 0, -1)\n",
    "lower = tf.matrix_band_part(rev_lower, -1, 0)\n",
    "final_upper = tf.reverse(upper, [-1])\n",
    "final_lower = tf.reverse(lower, [-1])\n",
    "diagonal = tf.matrix_band_part(rev_lower, 0, 0)\n",
    "rev_diagonal = tf.reverse(diagonal, [-1])\n",
    "val = final_upper + final_lower - rev_diagonal\n",
    "\n",
    "n = 3\n",
    "m = tf.reduce_max(B, axis = 1)\n",
    "b = tf.reshape(tf.tile(m,[n]),[n,n])\n",
    "# b = tf.tile(m,[n])\n",
    "\n",
    "with tf.Session() as sess:\n",
    "#     print(sess.run(customOps.A))\n",
    "#     print(sess.run(upper))\n",
    "#     print(customOps.A)\n",
    "#     print(sess.run(rev_upper))\n",
    "#     print(sess.run(B))\n",
    "#     print(sess.run(rev_lower))\n",
    "#     print(sess.run(final_upper))\n",
    "#     print(sess.run(final_lower))   \n",
    "#     print(sess.run(diagonal))\n",
    "#     print(sess.run(m))\n",
    "    \n",
    "    print(sess.run(b))"
   ]
  }
 ],
 "metadata": {
  "kernelspec": {
   "display_name": "Python 3",
   "language": "python",
   "name": "python3"
  },
  "language_info": {
   "codemirror_mode": {
    "name": "ipython",
    "version": 3
   },
   "file_extension": ".py",
   "mimetype": "text/x-python",
   "name": "python",
   "nbconvert_exporter": "python",
   "pygments_lexer": "ipython3",
   "version": "3.6.5"
  }
 },
 "nbformat": 4,
 "nbformat_minor": 2
}
