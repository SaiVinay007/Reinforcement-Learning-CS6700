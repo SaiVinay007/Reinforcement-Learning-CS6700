{
 "cells": [
  {
   "cell_type": "code",
   "execution_count": 155,
   "metadata": {},
   "outputs": [],
   "source": [
    "import tensorflow as tf\n",
    "import numpy as np\n",
    "import matplotlib.pyplot as plt"
   ]
  },
  {
   "cell_type": "code",
   "execution_count": 152,
   "metadata": {},
   "outputs": [],
   "source": [
    "def multi_arm_bandit(n, k, input_mean, input_stddev):\n",
    "    \n",
    "    # Each arm has its own distribution\n",
    "    \n",
    "    # stores expection of each arm and the number of times that arm is pulled\n",
    "    expectations = np.zeros([n,2], dtype = np.float32)\n",
    "    \n",
    "    # epsilon\n",
    "    e = 0.1\n",
    "    \n",
    "    # performing actions k number of times\n",
    "    for i in range(k):\n",
    "        # gives output of range [minval, maxval)\n",
    "        index =  np.random.randint(low=0, high=n)\n",
    "        val = np.random.uniform(low=0.0, high=1.0)\n",
    "        \n",
    "        # sampling reward from unknown distribution\n",
    "        reward = np.random.normal( loc=input_mean, scale=input_stddev )\n",
    "        \n",
    "#         expectations = tf.cond(val>e, explore(reward, expectations, index), exploit(reward, expectations))\n",
    "        if(val<e):\n",
    "            explore(reward, expectations, index)\n",
    "        else:\n",
    "            exploit(reward, expectations)\n",
    "    \n",
    "    return expectations\n",
    "\n",
    "def exploit(reward, expectations):\n",
    "    expectations[np.argmax(expectations[:,0])][1] += 1\n",
    "    expectations[np.argmax(expectations[:,0])][0] = (expectations[np.argmax(expectations[:,0])][0] + reward)/expectations[np.argmax(expectations[:,0])][1]\n",
    "    \n",
    "    return expectations\n",
    "    \n",
    "def explore(reward, expectations, index):\n",
    "    expectations[index][1] += 1\n",
    "    expectations[index][0] = (expectations[index][0] + reward)/expectations[index][1]\n",
    "    \n",
    "    return expectations\n",
    "    "
   ]
  },
  {
   "cell_type": "code",
   "execution_count": 162,
   "metadata": {
    "scrolled": true
   },
   "outputs": [
    {
     "data": {
      "image/png": "[encoded data removed]",
      "text/plain": [
       "<Figure size 432x288 with 1 Axes>"
      ]
     },
     "metadata": {},
     "output_type": "display_data"
    },
    {
     "name": "stdout",
     "output_type": "stream",
     "text": [
      "[[6.9856532e-03 9.6600000e+02]\n",
      " [2.3778074e-03 9.9100000e+02]\n",
      " [1.8874492e-03 9.9800000e+02]\n",
      " [4.0837401e-03 1.0020000e+03]\n",
      " [3.3640666e-03 1.0430000e+03]]\n"
     ]
    }
   ],
   "source": [
    "if __name__==\"__main__\":\n",
    "    \n",
    "    exp = multi_arm_bandit(5, 5000, 5, 1)\n",
    "    plot_result(exp,'Epsilon Greedy','b')\n",
    "    print(exp)\n",
    "        "
   ]
  },
  {
   "cell_type": "code",
   "execution_count": 159,
   "metadata": {},
   "outputs": [],
   "source": [
    "\n",
    "\n",
    "def plot_result(observation,title,color):\n",
    "    plt.plot(range(0,len(observation[0])),np.mean(observation,axis=0),color)\n",
    "    plt.xlabel('Number of Plays')\n",
    "    plt.ylabel('Average Reward')\n",
    "    plt.title(title)\n",
    "    plt.grid()\n",
    "    plt.show()\n"
   ]
  },
  {
   "cell_type": "code",
   "execution_count": null,
   "metadata": {},
   "outputs": [],
   "source": []
  },
  {
   "cell_type": "code",
   "execution_count": null,
   "metadata": {},
   "outputs": [],
   "source": []
  },
  {
   "cell_type": "code",
   "execution_count": null,
   "metadata": {},
   "outputs": [],
   "source": []
  },
  {
   "cell_type": "code",
   "execution_count": null,
   "metadata": {},
   "outputs": [],
   "source": []
  },
  {
   "cell_type": "code",
   "execution_count": 132,
   "metadata": {
    "scrolled": false
   },
   "outputs": [
    {
     "name": "stdout",
     "output_type": "stream",
     "text": [
      "[ 0 10  2]\n"
     ]
    },
    {
     "name": "stderr",
     "output_type": "stream",
     "text": [
      "/opt/anaconda3/lib/python3.6/site-packages/ipykernel_launcher.py:10: RuntimeWarning: divide by zero encountered in double_scalars\n",
      "  # Remove the CWD from sys.path while we load stuff.\n"
     ]
    },
    {
     "data": {
      "text/plain": [
       "array([[ 0.,  0.],\n",
       "       [inf,  0.],\n",
       "       [ 0.,  0.]], dtype=float32)"
      ]
     },
     "execution_count": 132,
     "metadata": {},
     "output_type": "execute_result"
    }
   ],
   "source": [
    "mat = np.asarray([[0, 1, 2],\n",
    "                  [10, 0, 3],\n",
    "                  [2, 5, 4]])\n",
    "\n",
    "expectations = np.zeros([3,2], dtype = np.float32)\n",
    "\n",
    "index = np.argmax(mat[:,0] )\n",
    "print(mat[:,0])\n",
    "\n",
    "expectations[index][0] = (expectations[index][0] + 5.0)/expectations[index][1]\n",
    "\n",
    "expectations"
   ]
  },
  {
   "cell_type": "code",
   "execution_count": 124,
   "metadata": {},
   "outputs": [
    {
     "data": {
      "text/plain": [
       "array([[0., 0.],\n",
       "       [0., 0.],\n",
       "       [0., 0.]], dtype=float32)"
      ]
     },
     "execution_count": 124,
     "metadata": {},
     "output_type": "execute_result"
    }
   ],
   "source": [
    "expectations = np.zeros([3,2], dtype = np.float32)\n",
    "expectations"
   ]
  },
  {
   "cell_type": "code",
   "execution_count": null,
   "metadata": {},
   "outputs": [],
   "source": []
  }
 ],
 "metadata": {
  "kernelspec": {
   "display_name": "Python 3",
   "language": "python",
   "name": "python3"
  },
  "language_info": {
   "codemirror_mode": {
    "name": "ipython",
    "version": 3
   },
   "file_extension": ".py",
   "mimetype": "text/x-python",
   "name": "python",
   "nbconvert_exporter": "python",
   "pygments_lexer": "ipython3",
   "version": "3.6.5"
  }
 },
 "nbformat": 4,
 "nbformat_minor": 2
}
