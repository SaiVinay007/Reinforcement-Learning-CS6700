{
 "cells": [
  {
   "cell_type": "code",
   "execution_count": 1,
   "metadata": {},
   "outputs": [],
   "source": [
    "import gym\n",
    "import gym_pdw\n",
    "\n",
    "import numpy as np\n",
    "from matplotlib import pyplot as plt\n",
    "\n",
    "from termcolor import colored"
   ]
  },
  {
   "cell_type": "code",
   "execution_count": 32,
   "metadata": {},
   "outputs": [],
   "source": [
    "# Q function update \n",
    "def update(state, action, reward, next_state, next_action, Q):\n",
    "        \n",
    "    error = reward + (gamma*Q[next_action][next_state[0],next_state[1]]) - Q[action][state[0],state[1]]\n",
    "    #     print(error, reward)\n",
    "    Q[action][state[0],state[1]] = Q[action][state[0],state[1]] + alpha*error\n",
    "#     print(np.argmax(Q, axis = 0))\n",
    "    if state == [10,4] and action==0:\n",
    "        print(\"error =  \", error, \"Q = \", Q[action][state[0],state[1]], \"reward = \", reward,\"next_state = \",next_state, action)\n",
    "    return Q"
   ]
  },
  {
   "cell_type": "code",
   "execution_count": 33,
   "metadata": {},
   "outputs": [],
   "source": [
    "# Epsilon-greedy action selection\n",
    "def select_action(epsilon, state, Q):\n",
    "    if np.random.uniform(0,1) < epsilon:\n",
    "        action = env.random_action()\n",
    "#         print(\"rand\", action)\n",
    "    else:\n",
    "#         print(np.argmax(Q[:,state[0],state[1]]))\n",
    "        action = np.argmax(Q[:,state[0],state[1]])\n",
    "#         print(\"greedy\", action)\n",
    "    return action"
   ]
  },
  {
   "cell_type": "code",
   "execution_count": 34,
   "metadata": {},
   "outputs": [],
   "source": [
    "\n",
    "def SARSA(gamma, alpha, epsilon, episodes):\n",
    "    \n",
    "    # Set the goal variant\n",
    "    \n",
    "    goal_pos = env.set_goal('A')\n",
    "    \n",
    "    \n",
    "    # Setting terminal action-state value \n",
    "    Terminal_state = goal_pos\n",
    "    \n",
    "    \n",
    "    # Initializing Q function values to zero\n",
    "    Q = np.zeros([env.action_space.n, env.observation_space.shape[0], env.observation_space.shape[1]])        \n",
    "    \n",
    "    # Number of steps required to reach goal\n",
    "    steps = np.zeros([episodes])\n",
    "    avg_reward = np.zeros([episodes])\n",
    "\n",
    "    \n",
    "    for episode in range(episodes):\n",
    "        \n",
    "        env.reset()\n",
    "        curr_state = env.get_state()\n",
    "#         print(curr_state ,\"init====================\")     \n",
    "        \n",
    "\n",
    "        while True:\n",
    "\n",
    "            action = select_action(epsilon, curr_state, Q)\n",
    "            next_state, reward = env.step(action)\n",
    "#             print('reward == ', reward, \"next_state==\", next_state,\"curr_state==\", curr_state, \"action==\",action)\n",
    "\n",
    "            next_action = select_action(epsilon, next_state, Q)\n",
    "            Q = update(curr_state, action, reward, next_state, next_action, Q)\n",
    "#             print(\"Q of current state is =\", Q[:,curr_state[0],curr_state[1]])\n",
    "#             if curr_state==[10,4] and action == 0:\n",
    "#                 print(curr_state, next_state)\n",
    "#                 print(action, \"------------\",Q[action][10,4], \"*************************************\")\n",
    "            \n",
    "            steps[episode] +=1\n",
    "            avg_reward[episode] = avg_reward[episode] + (reward - avg_reward[episode])/steps[episode]\n",
    "\n",
    "            curr_state = next_state\n",
    "            st = env.get_start_positions()\n",
    "#             print(curr_state, \"curr_state\")\n",
    "            \n",
    "            if curr_state == goal_pos:\n",
    "                print(\"Steps =======================\", steps[episode])\n",
    "                break\n",
    "    \n",
    "    return avg_reward, steps, Q"
   ]
  },
  {
   "cell_type": "code",
   "execution_count": 35,
   "metadata": {},
   "outputs": [],
   "source": [
    "def plot_sarsa(avg_reward, steps, episodes):\n",
    "    '''\n",
    "    Gets the data for all curves and plots them in one graph\n",
    "    '''\n",
    "\n",
    "    \n",
    "    # Figure instances will be returned.\n",
    "    fig1=plt.figure(figsize=(10,6)).add_subplot(111)\n",
    "    fig2=plt.figure(figsize=(10,6)).add_subplot(111)\n",
    "\n",
    "    # colors for different values of epsilon\n",
    "    colors = ['g', 'r', 'k', 'b', 'y','m', 'c']\n",
    "\n",
    "    fig1.plot(range(episodes), avg_reward, colors[0], label = \" Average reward \" )\n",
    "    fig2.plot(range(episodes), steps, colors[1], label = \" Steps\")\n",
    "\n",
    "    # Labelling the plot\n",
    "    fig1.title.set_text('SARSA avg reward')\n",
    "    fig1.set_ylabel('Average Reward')\n",
    "    fig1.set_xlabel('episodes')\n",
    "    fig1.legend(bbox_to_anchor=(1.05, 1), loc=2, borderaxespad=0.)\n",
    "\n",
    "    # Labelling the plot\n",
    "    fig2.title.set_text('SARSA num steps')\n",
    "    fig2.set_ylabel('Steps')\n",
    "    fig2.set_xlabel('episodes')\n",
    "    fig2.legend(bbox_to_anchor=(1.05, 1), loc=2, borderaxespad=0.)\n",
    "\n",
    "    # Display the plot\n",
    "    plt.show()\n"
   ]
  },
  {
   "cell_type": "code",
   "execution_count": 36,
   "metadata": {
    "scrolled": true
   },
   "outputs": [
    {
     "name": "stdout",
     "output_type": "stream",
     "text": [
      "error =   -1.0 Q =  -0.1 reward =  -1 next_state =  [9, 5] 0\n",
      "Steps ======================= 522.0\n",
      "Steps ======================= 2441.0\n",
      "Steps ======================= 125.0\n",
      "Steps ======================= 407.0\n",
      "Steps ======================= 864.0\n",
      "Steps ======================= 704.0\n",
      "Steps ======================= 71.0\n",
      "Steps ======================= 201.0\n",
      "Steps ======================= 260.0\n",
      "Steps ======================= 663.0\n",
      "Steps ======================= 263.0\n",
      "Steps ======================= 107.0\n",
      "Steps ======================= 245.0\n",
      "Steps ======================= 398.0\n",
      "Steps ======================= 70.0\n",
      "Steps ======================= 129.0\n",
      "Steps ======================= 149.0\n",
      "Steps ======================= 531.0\n",
      "Steps ======================= 858.0\n",
      "Steps ======================= 48.0\n",
      "Steps ======================= 685.0\n",
      "Steps ======================= 733.0\n",
      "Steps ======================= 19.0\n",
      "Steps ======================= 198.0\n",
      "Steps ======================= 245.0\n",
      "Steps ======================= 801.0\n",
      "Steps ======================= 129.0\n",
      "Steps ======================= 79.0\n",
      "error =   -0.981 Q =  -0.1981 reward =  -1 next_state =  [9, 4] 0\n",
      "Steps ======================= 616.0\n",
      "Steps ======================= 502.0\n",
      "Steps ======================= 1940.0\n",
      "Steps ======================= 532.0\n",
      "Steps ======================= 237.0\n",
      "Steps ======================= 331.0\n",
      "Steps ======================= 299.0\n",
      "Steps ======================= 863.0\n",
      "Steps ======================= 26.0\n",
      "Steps ======================= 339.0\n",
      "Steps ======================= 122.0\n",
      "Steps ======================= 180.0\n",
      "Steps ======================= 482.0\n",
      "Steps ======================= 333.0\n",
      "Steps ======================= 140.0\n",
      "Steps ======================= 875.0\n",
      "Steps ======================= 90.0\n",
      "Steps ======================= 99.0\n",
      "Steps ======================= 69.0\n",
      "Steps ======================= 442.0\n",
      "Steps ======================= 324.0\n",
      "Steps ======================= 771.0\n"
     ]
    },
    {
     "data": {
      "image/png": "[encoded data removed]",
      "text/plain": [
       "<Figure size 720x432 with 1 Axes>"
      ]
     },
     "metadata": {
      "needs_background": "light"
     },
     "output_type": "display_data"
    },
    {
     "data": {
      "image/png": "[encoded data removed]",
      "text/plain": [
       "<Figure size 720x432 with 1 Axes>"
      ]
     },
     "metadata": {
      "needs_background": "light"
     },
     "output_type": "display_data"
    }
   ],
   "source": [
    "if __name__=='__main__':\n",
    "    # parameters\n",
    "    gamma = 0.9\n",
    "    alpha = 0.1\n",
    "    epsilon = 0.1\n",
    "    episodes = 50\n",
    "        \n",
    "    env = gym.make('gym_pdw:pdw-v0')\n",
    "    \n",
    "    avg_reward, steps, Q = SARSA(gamma,alpha,epsilon, episodes)\n",
    "    plot_sarsa(avg_reward, steps, episodes)"
   ]
  },
  {
   "cell_type": "code",
   "execution_count": 7,
   "metadata": {},
   "outputs": [
    {
     "name": "stdout",
     "output_type": "stream",
     "text": [
      "[[ 0  0  0  0  0  0  0  0  0  0  0 10]\n",
      " [ 0  0  0  0  0  0  0  0  0  0  0  0]\n",
      " [ 0  0  0  0  0  0  0  0  0  0  0  0]\n",
      " [ 0  0  0  0 -1 -1 -1 -1 -1 -1  0  0]\n",
      " [ 0  0  0  0 -1 -2 -2 -2 -2 -1  0  0]\n",
      " [ 0  0  0  0 -1 -2 -3 -3 -2 -1  0  0]\n",
      " [ 0  0  0  0 -1 -2 -3 -2 -2 -1  0  0]\n",
      " [ 0  0  0  0 -1 -2 -3 -2 -1 -1  0  0]\n",
      " [ 0  0  0  0 -1 -2 -2 -2 -1  0  0  0]\n",
      " [ 0  0  0  0 -1 -1 -1 -1 -1  0  0  0]\n",
      " [ 0  0  0  0  0  0  0  0  0  0  0  0]\n",
      " [ 0  0  0  0  0  0  0  0  0  0  0  0]]\n",
      "[[0, 11], [2, 9], [7, 8]]\n",
      "{0: [-1, 0], 1: [0, 1], 2: [0, -1], 3: [1, 0]}\n"
     ]
    }
   ],
   "source": [
    "print(env.grid)\n",
    "print(env.goal_positions)\n",
    "print(env.actions)\n"
   ]
  },
  {
   "cell_type": "code",
   "execution_count": 8,
   "metadata": {},
   "outputs": [
    {
     "data": {
      "text/plain": [
       "array([[0, 0, 0, 0, 0, 0, 0, 0, 0, 0, 0, 0],\n",
       "       [0, 0, 0, 0, 0, 0, 0, 0, 0, 0, 3, 2],\n",
       "       [0, 0, 0, 0, 1, 0, 0, 1, 2, 0, 0, 2],\n",
       "       [0, 0, 0, 2, 3, 3, 1, 1, 0, 2, 0, 3],\n",
       "       [0, 1, 1, 0, 1, 3, 0, 2, 3, 1, 0, 0],\n",
       "       [0, 0, 2, 2, 1, 0, 3, 1, 0, 1, 2, 3],\n",
       "       [1, 0, 3, 2, 2, 3, 3, 3, 0, 3, 1, 1],\n",
       "       [0, 1, 0, 1, 2, 1, 2, 3, 1, 2, 0, 1],\n",
       "       [0, 3, 3, 3, 3, 3, 2, 2, 0, 3, 0, 2],\n",
       "       [0, 1, 3, 0, 0, 3, 2, 1, 3, 0, 2, 0],\n",
       "       [1, 1, 3, 0, 0, 3, 1, 3, 2, 0, 1, 0],\n",
       "       [0, 0, 0, 1, 3, 2, 2, 1, 2, 2, 1, 2]])"
      ]
     },
     "execution_count": 8,
     "metadata": {},
     "output_type": "execute_result"
    }
   ],
   "source": [
    "np.argmax(Q, axis=0)\n"
   ]
  },
  {
   "cell_type": "code",
   "execution_count": 9,
   "metadata": {},
   "outputs": [
    {
     "data": {
      "image/png": "[encoded data removed]",
      "text/plain": [
       "<Figure size 504x504 with 1 Axes>"
      ]
     },
     "metadata": {
      "needs_background": "light"
     },
     "output_type": "display_data"
    }
   ],
   "source": [
    "# To display the policy learn't\n",
    "plt.rcParams['figure.figsize'] = [7,7]\n",
    "fig, ax = plt.subplots()\n",
    "\n",
    "ax.matshow(np.argmax(Q, axis=0))\n",
    "\n",
    "for i in range(12):\n",
    "    for j in range(12):\n",
    "        c = int(np.argmax(Q, axis=0)[j,i])\n",
    "        direcs = {0:'↑', 1:'➜', 2:'←', 3:'↓' }\n",
    "        ax.text(i, j, direcs[c], va='center', ha='center')\n"
   ]
  },
  {
   "cell_type": "code",
   "execution_count": 10,
   "metadata": {},
   "outputs": [
    {
     "data": {
      "text/plain": [
       "(4, 12, 12)"
      ]
     },
     "execution_count": 10,
     "metadata": {},
     "output_type": "execute_result"
    }
   ],
   "source": [
    "Q.shape"
   ]
  },
  {
   "cell_type": "markdown",
   "metadata": {},
   "source": [
    "0 : [-1,0], # North\n",
    "1 : [0,1], # East\n",
    "2 : [0,-1], # West\n",
    "3 : [1,0] # South "
   ]
  },
  {
   "cell_type": "code",
   "execution_count": 11,
   "metadata": {},
   "outputs": [
    {
     "data": {
      "text/plain": [
       "array([[[ 0.00000000e+00,  0.00000000e+00,  0.00000000e+00,\n",
       "          0.00000000e+00,  0.00000000e+00,  0.00000000e+00,\n",
       "          0.00000000e+00,  0.00000000e+00,  3.26482873e-02,\n",
       "          6.10900953e-01,  2.69479349e+00,  0.00000000e+00],\n",
       "        [ 0.00000000e+00,  0.00000000e+00,  0.00000000e+00,\n",
       "          0.00000000e+00,  0.00000000e+00,  0.00000000e+00,\n",
       "          0.00000000e+00,  0.00000000e+00,  4.71211364e-02,\n",
       "          1.08527198e+00,  3.43969716e-01,  1.61701036e+00],\n",
       "        [ 0.00000000e+00,  0.00000000e+00,  0.00000000e+00,\n",
       "          0.00000000e+00, -1.00000000e-01,  0.00000000e+00,\n",
       "          2.28419064e-03, -1.00000000e-01, -9.46704338e-02,\n",
       "          6.01715120e-01,  1.74834337e+00,  8.50756053e-01],\n",
       "        [ 0.00000000e+00,  0.00000000e+00,  0.00000000e+00,\n",
       "         -1.00000000e-01, -1.00000000e-01, -9.00000000e-02,\n",
       "         -2.00000000e-01, -2.00000000e-01, -1.52832262e-01,\n",
       "         -1.23766990e-01,  1.45287215e-01,  2.24921984e-01],\n",
       "        [ 0.00000000e+00, -9.00000000e-03, -1.09000000e-01,\n",
       "         -1.00000000e-01, -1.90000000e-01, -4.95929000e-01,\n",
       "         -1.00000000e-01, -5.83761115e-01, -4.88238476e-01,\n",
       "         -6.34688737e-01, -2.48287971e-01,  1.59405453e-02],\n",
       "        [ 0.00000000e+00,  0.00000000e+00, -1.90000000e-01,\n",
       "         -1.18000000e-01, -4.78100000e-01, -3.89000000e-01,\n",
       "         -6.86341200e-01, -4.51281245e-01, -5.29256355e-01,\n",
       "         -7.98155258e-01, -5.25385081e-01, -1.23115778e-01],\n",
       "        [-1.07658000e-02,  0.00000000e+00, -1.19620000e-01,\n",
       "         -2.25200000e-01, -6.16225477e-01, -6.75200000e-01,\n",
       "         -4.98000000e-01, -5.99159434e-01, -4.51693247e-01,\n",
       "         -8.45313482e-01, -5.45326780e-01, -1.50166909e-01],\n",
       "        [ 0.00000000e+00, -7.09244100e-04,  0.00000000e+00,\n",
       "         -2.10263366e-01, -4.89000000e-01, -7.73198220e-01,\n",
       "         -4.98000000e-01, -3.95001088e-01, -5.56643807e-01,\n",
       "         -5.31247874e-01, -1.73040694e-01, -1.21041868e-01],\n",
       "        [ 0.00000000e+00, -9.00000000e-03, -1.09000000e-01,\n",
       "         -2.04661000e-01, -5.32954100e-01, -5.91078000e-01,\n",
       "         -6.72428000e-01, -4.23425637e-01, -4.89662541e-01,\n",
       "         -2.89592544e-01, -9.28596137e-02, -5.23355426e-02],\n",
       "        [ 0.00000000e+00, -1.13924210e-04, -8.10000000e-02,\n",
       "         -1.13584851e-01, -2.35119361e-01, -3.62765800e-01,\n",
       "         -2.90000000e-01, -3.19806569e-01, -2.94255452e-01,\n",
       "         -1.02912847e-01, -3.83291185e-02, -1.91797254e-02],\n",
       "        [-1.02531789e-04, -6.56100000e-04, -9.00000000e-03,\n",
       "         -9.00000000e-03, -1.69998346e-01, -2.15621200e-01,\n",
       "         -8.10000000e-02, -1.00000000e-01, -2.46949187e-01,\n",
       "         -2.20842389e-02, -1.20752567e-02, -8.37708545e-03],\n",
       "        [ 0.00000000e+00,  0.00000000e+00,  0.00000000e+00,\n",
       "         -7.21710000e-03, -1.09480718e-10, -2.88049930e-10,\n",
       "         -8.82900000e-04, -6.51818290e-06, -9.81000000e-03,\n",
       "         -2.89670591e-03, -3.36497481e-03, -3.20205689e-03]],\n",
       "\n",
       "       [[ 0.00000000e+00,  0.00000000e+00,  0.00000000e+00,\n",
       "          0.00000000e+00,  0.00000000e+00,  0.00000000e+00,\n",
       "          0.00000000e+00,  0.00000000e+00,  0.00000000e+00,\n",
       "          0.00000000e+00,  0.00000000e+00,  0.00000000e+00],\n",
       "        [ 0.00000000e+00,  0.00000000e+00,  0.00000000e+00,\n",
       "          0.00000000e+00,  0.00000000e+00,  0.00000000e+00,\n",
       "          0.00000000e+00,  0.00000000e+00,  0.00000000e+00,\n",
       "          1.40102144e-02,  6.32932927e-01,  1.67879939e+00],\n",
       "        [ 0.00000000e+00,  0.00000000e+00,  0.00000000e+00,\n",
       "          0.00000000e+00,  0.00000000e+00,  0.00000000e+00,\n",
       "          0.00000000e+00,  0.00000000e+00, -8.91357495e-02,\n",
       "          1.04321785e-01,  4.41769278e-01,  8.02346130e-01],\n",
       "        [ 0.00000000e+00,  0.00000000e+00,  0.00000000e+00,\n",
       "         -1.00000000e-01, -1.00000000e-01, -2.09000000e-01,\n",
       "          0.00000000e+00,  0.00000000e+00, -2.00000000e-01,\n",
       "         -2.65050512e-01, -9.98337922e-03,  2.06926626e-01],\n",
       "        [ 0.00000000e+00,  0.00000000e+00,  0.00000000e+00,\n",
       "         -1.00000000e-01, -1.00000000e-01, -2.99000000e-01,\n",
       "         -2.27023848e-01, -3.23788235e-01, -4.83479404e-01,\n",
       "         -5.34467976e-01, -3.18213222e-01,  8.96514382e-03],\n",
       "        [ 0.00000000e+00,  0.00000000e+00, -1.18000000e-01,\n",
       "         -1.27000000e-01, -2.80000000e-01, -5.49290000e-01,\n",
       "         -5.07000000e-01, -3.98987382e-01, -5.94020000e-01,\n",
       "         -7.26995849e-01, -5.31640963e-01, -1.34037070e-01],\n",
       "        [ 0.00000000e+00,  0.00000000e+00, -7.29000000e-04,\n",
       "         -1.27000000e-01, -4.32885242e-01, -9.12453259e-01,\n",
       "         -4.98000000e-01, -3.64296457e-01, -4.93925427e-01,\n",
       "         -8.45217131e-01, -4.24430586e-01, -1.04936424e-01],\n",
       "        [ 0.00000000e+00,  0.00000000e+00,  0.00000000e+00,\n",
       "         -1.00000000e-01, -3.13939000e-01, -5.73092200e-01,\n",
       "         -5.86582507e-01, -5.05632072e-01, -4.43440278e-01,\n",
       "         -4.54748821e-01, -3.78448732e-01, -8.71731764e-02],\n",
       "        [ 0.00000000e+00, -9.72900000e-03, -1.09000000e-01,\n",
       "         -2.86899490e-01, -5.83805656e-01, -4.22948000e-01,\n",
       "         -6.36230636e-01, -4.03996951e-01, -5.72418210e-01,\n",
       "         -3.16932396e-01, -1.03797612e-01, -5.15769394e-02],\n",
       "        [ 0.00000000e+00,  0.00000000e+00, -1.17535869e-02,\n",
       "         -1.97497663e-01, -3.05903800e-01, -5.05776760e-01,\n",
       "         -4.06108164e-01, -2.67769875e-01, -3.17536372e-01,\n",
       "         -1.75620765e-01, -3.83818995e-02, -2.06955062e-02],\n",
       "        [ 0.00000000e+00,  0.00000000e+00, -9.72900000e-03,\n",
       "         -1.08910000e-01, -2.03558590e-01, -1.29999021e-01,\n",
       "         -9.91587301e-04, -1.09000000e-01, -2.16007294e-01,\n",
       "         -3.54260782e-02, -1.08851769e-02, -8.91545049e-03],\n",
       "        [ 0.00000000e+00,  0.00000000e+00,  0.00000000e+00,\n",
       "          0.00000000e+00, -9.81000000e-03, -1.22370163e-11,\n",
       "         -7.58966528e-04, -4.08136632e-06, -9.00173219e-03,\n",
       "         -9.97112059e-04, -3.28116295e-03, -3.52870336e-03]],\n",
       "\n",
       "       [[ 0.00000000e+00,  0.00000000e+00,  0.00000000e+00,\n",
       "          0.00000000e+00,  0.00000000e+00,  0.00000000e+00,\n",
       "          0.00000000e+00,  0.00000000e+00,  0.00000000e+00,\n",
       "          0.00000000e+00,  0.00000000e+00,  0.00000000e+00],\n",
       "        [ 0.00000000e+00,  0.00000000e+00,  0.00000000e+00,\n",
       "          0.00000000e+00,  0.00000000e+00,  0.00000000e+00,\n",
       "          0.00000000e+00,  0.00000000e+00,  0.00000000e+00,\n",
       "          0.00000000e+00,  1.04917552e-01,  2.68118655e+00],\n",
       "        [ 0.00000000e+00,  0.00000000e+00,  0.00000000e+00,\n",
       "          0.00000000e+00,  0.00000000e+00,  0.00000000e+00,\n",
       "          0.00000000e+00,  0.00000000e+00,  2.53798960e-02,\n",
       "         -9.91427187e-02,  4.79151702e-01,  9.36140731e-01],\n",
       "        [ 0.00000000e+00,  0.00000000e+00,  0.00000000e+00,\n",
       "          0.00000000e+00, -2.00000000e-01, -1.00000000e-01,\n",
       "          0.00000000e+00,  0.00000000e+00, -2.00000000e-01,\n",
       "          2.12582045e-01,  1.07952758e-01,  2.43908814e-01],\n",
       "        [ 0.00000000e+00,  0.00000000e+00,  0.00000000e+00,\n",
       "         -1.00000000e-01, -1.00000000e-01, -3.52000000e-01,\n",
       "         -3.35892900e-01, -3.00000000e-01, -5.82227442e-01,\n",
       "         -7.60697024e-01, -3.28887220e-01,  2.55480162e-03],\n",
       "        [ 0.00000000e+00,  0.00000000e+00,  0.00000000e+00,\n",
       "          0.00000000e+00, -4.80000000e-01, -5.97000000e-01,\n",
       "         -4.97000000e-01, -5.01122000e-01, -7.21732453e-01,\n",
       "         -8.18935446e-01, -3.69100395e-01, -1.20897104e-01],\n",
       "        [ 0.00000000e+00,  0.00000000e+00, -8.10000000e-03,\n",
       "          0.00000000e+00, -4.21897025e-01, -7.50871904e-01,\n",
       "         -6.52718812e-01, -3.18000000e-01, -5.18215111e-01,\n",
       "         -8.19052962e-01, -5.19451067e-01, -1.25421577e-01],\n",
       "        [ 0.00000000e+00,  0.00000000e+00,  0.00000000e+00,\n",
       "         -2.51022800e-01, -3.08000000e-01, -5.78485100e-01,\n",
       "         -3.99000000e-01, -3.47724653e-01, -5.95538728e-01,\n",
       "         -3.91165719e-01, -3.51300540e-01, -1.24065148e-01],\n",
       "        [ 0.00000000e+00, -7.81415100e-03, -1.34758000e-01,\n",
       "         -2.38496320e-01, -5.75552064e-01, -4.02319000e-01,\n",
       "         -6.23900000e-01, -3.03180811e-01, -5.87192198e-01,\n",
       "         -3.16992875e-01, -1.10408751e-01, -3.64956168e-02],\n",
       "        [ 0.00000000e+00,  0.00000000e+00, -1.09000000e-01,\n",
       "         -1.30595410e-01, -2.93704390e-01, -3.90820936e-01,\n",
       "         -1.88658000e-01, -3.71000000e-01, -4.58933031e-01,\n",
       "         -1.84875651e-01, -2.83808532e-02, -1.99943063e-02],\n",
       "        [ 0.00000000e+00,  0.00000000e+00, -9.75946689e-03,\n",
       "         -1.40647173e-02, -2.89048510e-01, -2.24119000e-01,\n",
       "         -1.00000000e-01, -1.32717323e-01, -1.88914612e-01,\n",
       "         -3.03800592e-02, -1.20034375e-02, -9.09543482e-03],\n",
       "        [ 0.00000000e+00,  0.00000000e+00,  0.00000000e+00,\n",
       "          0.00000000e+00, -9.72900000e-03,  0.00000000e+00,\n",
       "         -4.32564847e-06, -6.63838154e-03, -2.12748196e-03,\n",
       "         -9.78427006e-04, -3.70826657e-03, -2.94152125e-03]],\n",
       "\n",
       "       [[ 0.00000000e+00,  0.00000000e+00,  0.00000000e+00,\n",
       "          0.00000000e+00,  0.00000000e+00,  0.00000000e+00,\n",
       "          0.00000000e+00,  0.00000000e+00,  0.00000000e+00,\n",
       "          1.40102144e-02,  0.00000000e+00,  0.00000000e+00],\n",
       "        [ 0.00000000e+00,  0.00000000e+00,  0.00000000e+00,\n",
       "          0.00000000e+00,  0.00000000e+00,  0.00000000e+00,\n",
       "          0.00000000e+00,  0.00000000e+00,  0.00000000e+00,\n",
       "          0.00000000e+00,  3.18283086e+00,  1.98413141e+00],\n",
       "        [ 0.00000000e+00,  0.00000000e+00,  0.00000000e+00,\n",
       "          0.00000000e+00,  0.00000000e+00,  0.00000000e+00,\n",
       "          0.00000000e+00,  0.00000000e+00, -9.41746783e-02,\n",
       "          1.26490835e-01,  1.24853141e-01,  6.66006727e-01],\n",
       "        [ 0.00000000e+00,  0.00000000e+00,  0.00000000e+00,\n",
       "          0.00000000e+00,  0.00000000e+00,  0.00000000e+00,\n",
       "          0.00000000e+00,  0.00000000e+00, -2.18000000e-01,\n",
       "         -1.89476631e-01, -3.33270555e-01,  3.31551657e-01],\n",
       "        [ 0.00000000e+00,  0.00000000e+00,  0.00000000e+00,\n",
       "         -2.25200000e-01, -1.00000000e-01, -2.90000000e-01,\n",
       "         -3.27000000e-01, -3.25781605e-01, -3.61773331e-01,\n",
       "         -5.65838066e-01, -2.72916950e-01,  4.46232306e-03],\n",
       "        [ 0.00000000e+00,  0.00000000e+00,  0.00000000e+00,\n",
       "          0.00000000e+00, -2.98000000e-01, -4.13300000e-01,\n",
       "         -4.08339041e-01, -6.05892900e-01, -6.21659629e-01,\n",
       "         -8.04817200e-01, -4.24129358e-01, -1.03246078e-01],\n",
       "        [ 0.00000000e+00,  0.00000000e+00,  0.00000000e+00,\n",
       "         -9.00000000e-03, -5.13920000e-01, -6.51000000e-01,\n",
       "         -3.00000000e-01, -1.25595788e-01, -5.04353202e-01,\n",
       "         -7.50206482e-01, -4.70538315e-01, -1.33316773e-01],\n",
       "        [ 0.00000000e+00,  0.00000000e+00,  0.00000000e+00,\n",
       "         -2.35820000e-01, -4.91951000e-01, -7.01100094e-01,\n",
       "         -4.10780000e-01, -3.13804370e-01, -4.94819153e-01,\n",
       "         -5.03631221e-01, -3.61547978e-01, -1.15025407e-01],\n",
       "        [ 0.00000000e+00,  0.00000000e+00, -7.09244100e-03,\n",
       "         -1.94358610e-01, -4.48848000e-01, -3.57124644e-01,\n",
       "         -7.04649142e-01, -3.37352455e-01, -5.23921273e-01,\n",
       "         -2.58216459e-01, -1.02712032e-01, -5.09294334e-02],\n",
       "        [ 0.00000000e+00,  0.00000000e+00, -8.10000000e-03,\n",
       "         -1.28054610e-01, -3.02767220e-01, -3.18741490e-01,\n",
       "         -2.97360650e-01, -3.97892900e-01, -1.98282323e-01,\n",
       "         -1.85913857e-01, -4.13955118e-02, -2.63763367e-02],\n",
       "        [ 0.00000000e+00,  0.00000000e+00, -7.33079039e-03,\n",
       "         -1.22170510e-01, -2.04234514e-01, -9.81683070e-02,\n",
       "         -1.17751935e-01, -8.70783378e-03, -2.12780911e-01,\n",
       "         -2.56093292e-02, -1.18275039e-02, -8.58075009e-03],\n",
       "        [ 0.00000000e+00,  0.00000000e+00,  0.00000000e+00,\n",
       "          0.00000000e+00,  0.00000000e+00,  0.00000000e+00,\n",
       "         -8.86794111e-04, -1.54279797e-04, -1.73725463e-02,\n",
       "         -2.13020353e-03, -3.77142470e-03, -2.98892313e-03]]])"
      ]
     },
     "execution_count": 11,
     "metadata": {},
     "output_type": "execute_result"
    }
   ],
   "source": [
    "Q"
   ]
  },
  {
   "cell_type": "code",
   "execution_count": 12,
   "metadata": {},
   "outputs": [
    {
     "data": {
      "text/plain": [
       "4"
      ]
     },
     "execution_count": 12,
     "metadata": {},
     "output_type": "execute_result"
    }
   ],
   "source": [
    "# Q = np.zeros((env.observation_space, env.action_space))\n",
    "env.action_space.n"
   ]
  },
  {
   "cell_type": "code",
   "execution_count": 13,
   "metadata": {},
   "outputs": [],
   "source": [
    "env = gym.make('FrozenLake-v0')"
   ]
  },
  {
   "cell_type": "code",
   "execution_count": 14,
   "metadata": {},
   "outputs": [],
   "source": [
    "Q = np.zeros((env.observation_space.n, env.action_space.n))"
   ]
  },
  {
   "cell_type": "code",
   "execution_count": 15,
   "metadata": {},
   "outputs": [
    {
     "data": {
      "text/plain": [
       "array([[0., 0., 0., 0.],\n",
       "       [0., 0., 0., 0.],\n",
       "       [0., 0., 0., 0.],\n",
       "       [0., 0., 0., 0.],\n",
       "       [0., 0., 0., 0.],\n",
       "       [0., 0., 0., 0.],\n",
       "       [0., 0., 0., 0.],\n",
       "       [0., 0., 0., 0.],\n",
       "       [0., 0., 0., 0.],\n",
       "       [0., 0., 0., 0.],\n",
       "       [0., 0., 0., 0.],\n",
       "       [0., 0., 0., 0.],\n",
       "       [0., 0., 0., 0.],\n",
       "       [0., 0., 0., 0.],\n",
       "       [0., 0., 0., 0.],\n",
       "       [0., 0., 0., 0.]])"
      ]
     },
     "execution_count": 15,
     "metadata": {},
     "output_type": "execute_result"
    }
   ],
   "source": [
    "Q"
   ]
  },
  {
   "cell_type": "code",
   "execution_count": 16,
   "metadata": {},
   "outputs": [
    {
     "data": {
      "text/plain": [
       "[0.0, 0.0, 0.0, 0.0]"
      ]
     },
     "execution_count": 16,
     "metadata": {},
     "output_type": "execute_result"
    }
   ],
   "source": [
    "from collections import defaultdict\n",
    "q_table = defaultdict(lambda: [0.0, 0.0, 0.0, 0.0])\n",
    "q_table[tuple([10,10]),4]"
   ]
  },
  {
   "cell_type": "code",
   "execution_count": 17,
   "metadata": {},
   "outputs": [
    {
     "ename": "TypeError",
     "evalue": "'tuple' object cannot be interpreted as an integer",
     "output_type": "error",
     "traceback": [
      "\u001b[0;31m-------------------------------------------------\u001b[0m",
      "\u001b[0;31mTypeError\u001b[0m       Traceback (most recent call last)",
      "\u001b[0;32m<ipython-input-17-ca68928ba1dd>\u001b[0m in \u001b[0;36m<module>\u001b[0;34m\u001b[0m\n\u001b[0;32m----> 1\u001b[0;31m \u001b[0mq\u001b[0m \u001b[0;34m=\u001b[0m \u001b[0mnp\u001b[0m\u001b[0;34m.\u001b[0m\u001b[0mzeros\u001b[0m\u001b[0;34m(\u001b[0m\u001b[0;34m[\u001b[0m\u001b[0mtuple\u001b[0m\u001b[0;34m(\u001b[0m\u001b[0;34m[\u001b[0m\u001b[0;36m12\u001b[0m\u001b[0;34m,\u001b[0m\u001b[0;36m12\u001b[0m\u001b[0;34m]\u001b[0m\u001b[0;34m)\u001b[0m\u001b[0;34m,\u001b[0m\u001b[0;36m0\u001b[0m\u001b[0;34m]\u001b[0m\u001b[0;34m)\u001b[0m\u001b[0;34m\u001b[0m\u001b[0m\n\u001b[0m",
      "\u001b[0;31mTypeError\u001b[0m: 'tuple' object cannot be interpreted as an integer"
     ]
    }
   ],
   "source": [
    "q = np.zeros([tuple([12,12]),0]) "
   ]
  },
  {
   "cell_type": "code",
   "execution_count": null,
   "metadata": {},
   "outputs": [],
   "source": [
    "q = np.zeros([12,12,4])\n",
    "q[11,11][2]"
   ]
  },
  {
   "cell_type": "code",
   "execution_count": null,
   "metadata": {},
   "outputs": [],
   "source": [
    "q[2,11,11]\n",
    "s = np.array([11,11])\n",
    "print(s.shape)\n",
    "s = np.squeeze(s,1)\n",
    "print(s.shape)\n"
   ]
  },
  {
   "cell_type": "code",
   "execution_count": null,
   "metadata": {},
   "outputs": [],
   "source": [
    "Q = np.ones([4,12,12])\n",
    "Q[1,11,11] = 5\n",
    "Q[2,5,5] = 4\n",
    "np.argmax(Q,axis=0)"
   ]
  },
  {
   "cell_type": "code",
   "execution_count": null,
   "metadata": {},
   "outputs": [],
   "source": []
  }
 ],
 "metadata": {
  "kernelspec": {
   "display_name": "Python 3",
   "language": "python",
   "name": "python3"
  },
  "language_info": {
   "codemirror_mode": {
    "name": "ipython",
    "version": 3
   },
   "file_extension": ".py",
   "mimetype": "text/x-python",
   "name": "python",
   "nbconvert_exporter": "python",
   "pygments_lexer": "ipython3",
   "version": "3.5.2"
  }
 },
 "nbformat": 4,
 "nbformat_minor": 2
}
