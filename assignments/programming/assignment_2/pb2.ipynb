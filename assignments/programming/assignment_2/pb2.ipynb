{
 "cells": [
  {
   "cell_type": "code",
   "execution_count": 22,
   "metadata": {},
   "outputs": [],
   "source": [
    "import gym\n",
    "import gym_pdw\n",
    "\n",
    "import numpy as np\n",
    "from matplotlib import pyplot as plt"
   ]
  },
  {
   "cell_type": "code",
   "execution_count": 23,
   "metadata": {},
   "outputs": [],
   "source": [
    "env = gym.make('gym_pdw:pdw-v0')"
   ]
  },
  {
   "cell_type": "code",
   "execution_count": 24,
   "metadata": {},
   "outputs": [],
   "source": [
    "# Q function update \n",
    "def update(state, action, reward, next_state, next_action, Q):\n",
    "\n",
    "    target = reward + gamma*(Q[next_action][next_state[0],next_state[1]])\n",
    "    estimate = Q[action][state[0],state[1]]\n",
    "\n",
    "    Q[action][state[0],state[1]] = Q[action][state[0],state[1]] + alpha*(target - estimate)\n",
    "\n",
    "    return Q"
   ]
  },
  {
   "cell_type": "code",
   "execution_count": 25,
   "metadata": {},
   "outputs": [],
   "source": [
    "# Epsilon-greedy action selection\n",
    "def select_action(epsilon, state, Q):\n",
    "    if np.random.uniform(0,1) < epsilon:\n",
    "        action = env.random_action()\n",
    "#             print(\"rand\", action)\n",
    "    else:\n",
    "#         print(np.argmax(Q[:,state[0],state[1]]))\n",
    "        action = np.argmax(Q[:,state[0],state[1]])\n",
    "#             print(\"greedy\", action)\n",
    "    return action"
   ]
  },
  {
   "cell_type": "code",
   "execution_count": 26,
   "metadata": {},
   "outputs": [],
   "source": [
    "\n",
    "def SARSA(gamma, alpha, epsilon, episodes):\n",
    "    \n",
    "    # Set the goal variant\n",
    "    \n",
    "    goal_pos = env.set_goal('A')\n",
    "    \n",
    "    \n",
    "    # Setting terminal action-state value \n",
    "    Terminal_state = goal_pos\n",
    "    \n",
    "    \n",
    "    # Initializing Q function values to zero\n",
    "    Q = np.zeros([env.action_space.n, env.observation_space.shape[0], env.observation_space.shape[1]])        \n",
    "    \n",
    "    # Number of steps required to reach goal\n",
    "    steps = np.zeros([episodes])\n",
    "    avg_reward = np.zeros([episodes])\n",
    "\n",
    "    \n",
    "    for episode in range(episodes):\n",
    "        \n",
    "        env.reset()\n",
    "        curr_state = env.get_state()\n",
    "#         print(curr_state ,\"init====================\")     \n",
    "        \n",
    "\n",
    "        while True:\n",
    "\n",
    "            action = select_action(epsilon, curr_state, Q)\n",
    "            next_state, reward = env.step(action)\n",
    "\n",
    "            next_action = select_action(epsilon, next_state, Q)\n",
    "            Q = update(curr_state, action, reward, next_state, next_action, Q)\n",
    "            \n",
    "            steps[episode] +=1\n",
    "            avg_reward[episode] = avg_reward[episode] + (reward - avg_reward[episode])/steps[episode]\n",
    "\n",
    "            curr_state = next_state\n",
    "            st = env.get_start_positions()\n",
    "#             print(curr_state, \"curr_state\", st)\n",
    "            if curr_state == goal_pos:\n",
    "                print(\"Steps =======================\", steps[episode])\n",
    "                break\n",
    "    \n",
    "    return avg_reward, steps, Q"
   ]
  },
  {
   "cell_type": "code",
   "execution_count": 27,
   "metadata": {},
   "outputs": [],
   "source": [
    "def plot_sarsa(avg_reward, steps, episodes):\n",
    "    '''\n",
    "    Gets the data for all curves and plots them in one graph\n",
    "    '''\n",
    "\n",
    "    \n",
    "    # Figure instances will be returned.\n",
    "    fig1=plt.figure(figsize=(10,6)).add_subplot(111)\n",
    "    fig2=plt.figure(figsize=(10,6)).add_subplot(111)\n",
    "\n",
    "    # colors for different values of epsilon\n",
    "    colors = ['g', 'r', 'k', 'b', 'y','m', 'c']\n",
    "\n",
    "    fig1.plot(range(episodes), avg_reward, colors[0], label = \" Average reward \" )\n",
    "    fig2.plot(range(episodes), steps, colors[1], label = \" Steps\")\n",
    "\n",
    "    # Labelling the plot\n",
    "    fig1.title.set_text('SARSA avg reward')\n",
    "    fig1.set_ylabel('Average Reward')\n",
    "    fig1.set_xlabel('episodes')\n",
    "    fig1.legend(bbox_to_anchor=(1.05, 1), loc=2, borderaxespad=0.)\n",
    "\n",
    "    # Labelling the plot\n",
    "    fig2.title.set_text('SARSA num steps')\n",
    "    fig2.set_ylabel('Steps')\n",
    "    fig2.set_xlabel('episodes')\n",
    "    fig2.legend(bbox_to_anchor=(1.05, 1), loc=2, borderaxespad=0.)\n",
    "\n",
    "    # Display the plot\n",
    "    plt.show()\n"
   ]
  },
  {
   "cell_type": "code",
   "execution_count": 31,
   "metadata": {
    "scrolled": true
   },
   "outputs": [
    {
     "name": "stdout",
     "output_type": "stream",
     "text": [
      "Steps ======================= 610.0\n",
      "Steps ======================= 380.0\n",
      "Steps ======================= 276.0\n",
      "Steps ======================= 119.0\n",
      "Steps ======================= 369.0\n",
      "Steps ======================= 1250.0\n",
      "Steps ======================= 2147.0\n",
      "Steps ======================= 111.0\n",
      "Steps ======================= 575.0\n",
      "Steps ======================= 1012.0\n",
      "Steps ======================= 396.0\n",
      "Steps ======================= 73.0\n",
      "Steps ======================= 359.0\n",
      "Steps ======================= 697.0\n",
      "Steps ======================= 768.0\n",
      "Steps ======================= 55.0\n",
      "Steps ======================= 141.0\n",
      "Steps ======================= 128.0\n",
      "Steps ======================= 256.0\n",
      "Steps ======================= 97.0\n",
      "Steps ======================= 1253.0\n",
      "Steps ======================= 446.0\n",
      "Steps ======================= 179.0\n",
      "Steps ======================= 219.0\n",
      "Steps ======================= 327.0\n",
      "Steps ======================= 741.0\n",
      "Steps ======================= 25.0\n",
      "Steps ======================= 298.0\n",
      "Steps ======================= 265.0\n",
      "Steps ======================= 27.0\n",
      "Steps ======================= 171.0\n",
      "Steps ======================= 941.0\n",
      "Steps ======================= 261.0\n",
      "Steps ======================= 344.0\n",
      "Steps ======================= 694.0\n",
      "Steps ======================= 257.0\n",
      "Steps ======================= 518.0\n",
      "Steps ======================= 29.0\n",
      "Steps ======================= 172.0\n",
      "Steps ======================= 1304.0\n",
      "Steps ======================= 43.0\n",
      "Steps ======================= 88.0\n",
      "Steps ======================= 298.0\n",
      "Steps ======================= 56.0\n",
      "Steps ======================= 63.0\n",
      "Steps ======================= 348.0\n",
      "Steps ======================= 206.0\n",
      "Steps ======================= 493.0\n",
      "Steps ======================= 22.0\n",
      "Steps ======================= 400.0\n",
      "Steps ======================= 512.0\n",
      "Steps ======================= 133.0\n",
      "Steps ======================= 380.0\n",
      "Steps ======================= 211.0\n",
      "Steps ======================= 66.0\n",
      "Steps ======================= 382.0\n",
      "Steps ======================= 33.0\n",
      "Steps ======================= 464.0\n",
      "Steps ======================= 407.0\n",
      "Steps ======================= 47.0\n",
      "Steps ======================= 28.0\n",
      "Steps ======================= 424.0\n",
      "Steps ======================= 365.0\n",
      "Steps ======================= 595.0\n",
      "Steps ======================= 40.0\n",
      "Steps ======================= 1019.0\n",
      "Steps ======================= 183.0\n",
      "Steps ======================= 262.0\n",
      "Steps ======================= 263.0\n",
      "Steps ======================= 265.0\n",
      "Steps ======================= 323.0\n",
      "Steps ======================= 139.0\n",
      "Steps ======================= 1244.0\n",
      "Steps ======================= 516.0\n",
      "Steps ======================= 584.0\n",
      "Steps ======================= 761.0\n",
      "Steps ======================= 963.0\n",
      "Steps ======================= 55.0\n",
      "Steps ======================= 63.0\n",
      "Steps ======================= 803.0\n",
      "Steps ======================= 52.0\n",
      "Steps ======================= 60.0\n",
      "Steps ======================= 459.0\n",
      "Steps ======================= 52.0\n",
      "Steps ======================= 210.0\n",
      "Steps ======================= 475.0\n",
      "Steps ======================= 75.0\n",
      "Steps ======================= 95.0\n",
      "Steps ======================= 75.0\n",
      "Steps ======================= 224.0\n",
      "Steps ======================= 158.0\n",
      "Steps ======================= 811.0\n",
      "Steps ======================= 300.0\n",
      "Steps ======================= 235.0\n",
      "Steps ======================= 75.0\n",
      "Steps ======================= 854.0\n",
      "Steps ======================= 232.0\n",
      "Steps ======================= 151.0\n",
      "Steps ======================= 773.0\n",
      "Steps ======================= 185.0\n"
     ]
    },
    {
     "data": {
      "image/png": "[encoded data removed]",
      "text/plain": [
       "<Figure size 720x432 with 1 Axes>"
      ]
     },
     "metadata": {
      "needs_background": "light"
     },
     "output_type": "display_data"
    },
    {
     "data": {
      "image/png": "[encoded data removed]",
      "text/plain": [
       "<Figure size 720x432 with 1 Axes>"
      ]
     },
     "metadata": {
      "needs_background": "light"
     },
     "output_type": "display_data"
    }
   ],
   "source": [
    "if __name__=='__main__':\n",
    "    # parameters\n",
    "    gamma = 0.9\n",
    "    alpha = 0.01\n",
    "    epsilon = 0.1\n",
    "    episodes = 100\n",
    "    \n",
    "    avg_reward, steps, Q = SARSA(gamma,alpha,epsilon, episodes)\n",
    "    plot_sarsa(avg_reward, steps, episodes)"
   ]
  },
  {
   "cell_type": "code",
   "execution_count": 33,
   "metadata": {},
   "outputs": [
    {
     "name": "stdout",
     "output_type": "stream",
     "text": [
      "[[ 0  0  0  0  0  0  0  0  0  0  0 20]\n",
      " [ 0  0  0  0  0  0  0  0  0  0  0  0]\n",
      " [ 0  0  0  0  0  0  0  0  0  0  0  0]\n",
      " [ 0  0  0  0 -1 -1 -1 -1 -1 -1  0  0]\n",
      " [ 0  0  0  0 -1 -2 -2 -2 -2 -1  0  0]\n",
      " [ 0  0  0  0 -1 -2 -3 -3 -2 -1  0  0]\n",
      " [ 0  0  0  0 -1 -2 -3 -2 -2 -1  0  0]\n",
      " [ 0  0  0  0 -1 -2 -3 -2 -1 -1  0  0]\n",
      " [ 0  0  0  0 -1 -2 -2 -2 -1  0  0  0]\n",
      " [ 0  0  0  0 -1 -1 -1 -1 -1  0  0  0]\n",
      " [ 0  0  0  0  0  0  0  0  0  0  0  0]\n",
      " [ 0  0  0  0  0  0  0  0  0  0  0  0]]\n",
      "[[0, 11], [2, 9], [7, 8]]\n",
      "{0: [-1, 0], 1: [0, 1], 2: [0, -1], 3: [1, 0]}\n"
     ]
    }
   ],
   "source": [
    "print(env.grid)\n",
    "print(env.goal_positions)\n",
    "print(env.actions)\n"
   ]
  },
  {
   "cell_type": "code",
   "execution_count": 32,
   "metadata": {},
   "outputs": [
    {
     "data": {
      "text/plain": [
       "array([[0, 0, 0, 0, 0, 0, 0, 0, 0, 0, 0, 0],\n",
       "       [0, 0, 0, 0, 0, 0, 0, 0, 0, 0, 0, 0],\n",
       "       [0, 0, 0, 0, 0, 0, 0, 0, 0, 0, 0, 0],\n",
       "       [0, 0, 0, 0, 2, 1, 2, 3, 2, 1, 0, 0],\n",
       "       [0, 0, 0, 0, 1, 0, 3, 2, 0, 2, 0, 0],\n",
       "       [0, 0, 0, 0, 3, 1, 2, 1, 0, 1, 0, 0],\n",
       "       [0, 0, 0, 0, 3, 1, 3, 3, 1, 2, 0, 0],\n",
       "       [0, 0, 0, 0, 2, 1, 2, 2, 0, 3, 0, 0],\n",
       "       [0, 0, 0, 0, 3, 0, 3, 1, 1, 0, 0, 0],\n",
       "       [0, 0, 0, 0, 2, 1, 2, 3, 3, 0, 0, 0],\n",
       "       [0, 0, 0, 0, 0, 0, 0, 0, 0, 0, 0, 0],\n",
       "       [0, 0, 0, 0, 0, 0, 0, 0, 0, 0, 0, 0]])"
      ]
     },
     "execution_count": 32,
     "metadata": {},
     "output_type": "execute_result"
    }
   ],
   "source": [
    "np.argmax(Q, axis=0)"
   ]
  },
  {
   "cell_type": "code",
   "execution_count": 10,
   "metadata": {},
   "outputs": [
    {
     "data": {
      "text/plain": [
       "(4, 12, 12)"
      ]
     },
     "execution_count": 10,
     "metadata": {},
     "output_type": "execute_result"
    }
   ],
   "source": [
    "Q.shape"
   ]
  },
  {
   "cell_type": "markdown",
   "metadata": {},
   "source": [
    "0 : [-1,0], # North\n",
    "1 : [0,1], # East\n",
    "2 : [0,-1], # West\n",
    "3 : [1,0] # South "
   ]
  },
  {
   "cell_type": "code",
   "execution_count": 11,
   "metadata": {},
   "outputs": [
    {
     "data": {
      "text/plain": [
       "array([[[ 0.        ,  0.        ,  0.        ,  0.        ,\n",
       "          0.        ,  0.        ,  0.        ,  0.        ,\n",
       "          0.        ,  0.        ,  0.        ,  0.3994004 ],\n",
       "        [ 0.        ,  0.        ,  0.        ,  0.        ,\n",
       "          0.        ,  0.        ,  0.        ,  0.        ,\n",
       "          0.        ,  0.        ,  0.        ,  0.        ],\n",
       "        [ 0.        ,  0.        ,  0.        ,  0.        ,\n",
       "          0.        ,  0.        ,  0.        ,  0.        ,\n",
       "          0.        ,  0.        ,  0.        ,  0.        ],\n",
       "        [ 0.        ,  0.        ,  0.        ,  0.        ,\n",
       "          0.        ,  0.        ,  0.        ,  0.        ,\n",
       "          0.        , -0.01      ,  0.        ,  0.        ],\n",
       "        [ 0.        ,  0.        ,  0.        ,  0.        ,\n",
       "          0.        ,  0.        ,  0.        ,  0.        ,\n",
       "          0.        , -0.0298801 ,  0.        ,  0.        ],\n",
       "        [ 0.        ,  0.        ,  0.        ,  0.        ,\n",
       "          0.        ,  0.        ,  0.        ,  0.        ,\n",
       "          0.        , -0.029701  ,  0.        ,  0.        ],\n",
       "        [ 0.        ,  0.        ,  0.        ,  0.        ,\n",
       "          0.        ,  0.        ,  0.        ,  0.        ,\n",
       "          0.        , -0.029701  ,  0.        ,  0.        ],\n",
       "        [ 0.        ,  0.        ,  0.        ,  0.        ,\n",
       "          0.        ,  0.        ,  0.        ,  0.        ,\n",
       "         -0.01      , -0.06793465,  0.        ,  0.        ],\n",
       "        [ 0.        ,  0.        ,  0.        ,  0.        ,\n",
       "          0.        , -0.02      ,  0.        ,  0.        ,\n",
       "         -0.01      ,  0.        ,  0.        ,  0.        ],\n",
       "        [ 0.        ,  0.        ,  0.        ,  0.        ,\n",
       "          0.        ,  0.        , -0.01      ,  0.        ,\n",
       "         -0.05851985,  0.        ,  0.        ,  0.        ],\n",
       "        [ 0.        ,  0.        ,  0.        ,  0.        ,\n",
       "          0.        ,  0.        ,  0.        ,  0.        ,\n",
       "          0.        ,  0.        ,  0.        ,  0.        ],\n",
       "        [ 0.        ,  0.        ,  0.        ,  0.        ,\n",
       "          0.        ,  0.        ,  0.        ,  0.        ,\n",
       "          0.        ,  0.        ,  0.        ,  0.        ]],\n",
       "\n",
       "       [[ 0.        ,  0.        ,  0.        ,  0.        ,\n",
       "          0.        ,  0.        ,  0.        ,  0.        ,\n",
       "          0.        ,  0.        ,  0.        ,  0.        ],\n",
       "        [ 0.        ,  0.        ,  0.        ,  0.        ,\n",
       "          0.        ,  0.        ,  0.        ,  0.        ,\n",
       "          0.        ,  0.        ,  0.        ,  0.        ],\n",
       "        [ 0.        ,  0.        ,  0.        ,  0.        ,\n",
       "          0.        ,  0.        ,  0.        ,  0.        ,\n",
       "          0.        ,  0.        ,  0.        ,  0.        ],\n",
       "        [ 0.        ,  0.        ,  0.        ,  0.        ,\n",
       "          0.        ,  0.        ,  0.        ,  0.        ,\n",
       "          0.        , -0.01      ,  0.        ,  0.        ],\n",
       "        [ 0.        ,  0.        ,  0.        ,  0.        ,\n",
       "          0.        ,  0.        ,  0.        ,  0.        ,\n",
       "          0.        ,  0.        ,  0.        ,  0.        ],\n",
       "        [ 0.        ,  0.        ,  0.        ,  0.        ,\n",
       "          0.        ,  0.        ,  0.        ,  0.        ,\n",
       "          0.        ,  0.        ,  0.        ,  0.        ],\n",
       "        [ 0.        ,  0.        ,  0.        ,  0.        ,\n",
       "          0.        ,  0.        ,  0.        ,  0.        ,\n",
       "          0.        , -0.0199    ,  0.        ,  0.        ],\n",
       "        [ 0.        ,  0.        ,  0.        ,  0.        ,\n",
       "          0.        ,  0.        ,  0.        ,  0.        ,\n",
       "         -0.01      , -0.01      ,  0.        ,  0.        ],\n",
       "        [ 0.        ,  0.        ,  0.        ,  0.        ,\n",
       "          0.        ,  0.        ,  0.        ,  0.        ,\n",
       "          0.        ,  0.        ,  0.        ,  0.        ],\n",
       "        [ 0.        ,  0.        ,  0.        ,  0.        ,\n",
       "          0.        ,  0.        ,  0.        ,  0.        ,\n",
       "         -0.01      ,  0.        ,  0.        ,  0.        ],\n",
       "        [ 0.        ,  0.        ,  0.        ,  0.        ,\n",
       "          0.        ,  0.        ,  0.        ,  0.        ,\n",
       "          0.        ,  0.        ,  0.        ,  0.        ],\n",
       "        [ 0.        ,  0.        ,  0.        ,  0.        ,\n",
       "          0.        ,  0.        ,  0.        ,  0.        ,\n",
       "          0.        ,  0.        ,  0.        ,  0.        ]],\n",
       "\n",
       "       [[ 0.        ,  0.        ,  0.        ,  0.        ,\n",
       "          0.        ,  0.        ,  0.        ,  0.        ,\n",
       "          0.        ,  0.        ,  0.        ,  0.        ],\n",
       "        [ 0.        ,  0.        ,  0.        ,  0.        ,\n",
       "          0.        ,  0.        ,  0.        ,  0.        ,\n",
       "          0.        ,  0.        ,  0.        ,  0.        ],\n",
       "        [ 0.        ,  0.        ,  0.        ,  0.        ,\n",
       "          0.        ,  0.        ,  0.        ,  0.        ,\n",
       "          0.        ,  0.        ,  0.        ,  0.        ],\n",
       "        [ 0.        ,  0.        ,  0.        ,  0.        ,\n",
       "          0.        ,  0.        ,  0.        ,  0.        ,\n",
       "          0.        , -0.01      ,  0.        ,  0.        ],\n",
       "        [ 0.        ,  0.        ,  0.        ,  0.        ,\n",
       "          0.        ,  0.        ,  0.        ,  0.        ,\n",
       "          0.        ,  0.        ,  0.        ,  0.        ],\n",
       "        [ 0.        ,  0.        ,  0.        ,  0.        ,\n",
       "          0.        ,  0.        ,  0.        ,  0.        ,\n",
       "          0.        ,  0.        ,  0.        ,  0.        ],\n",
       "        [ 0.        ,  0.        ,  0.        ,  0.        ,\n",
       "          0.        ,  0.        ,  0.        ,  0.        ,\n",
       "          0.        , -0.01999   ,  0.        ,  0.        ],\n",
       "        [ 0.        ,  0.        ,  0.        ,  0.        ,\n",
       "          0.        ,  0.        ,  0.        ,  0.        ,\n",
       "         -0.01      , -0.01      ,  0.        ,  0.        ],\n",
       "        [ 0.        ,  0.        ,  0.        ,  0.        ,\n",
       "          0.        ,  0.        ,  0.        ,  0.        ,\n",
       "          0.        ,  0.        ,  0.        ,  0.        ],\n",
       "        [ 0.        ,  0.        ,  0.        ,  0.        ,\n",
       "          0.        ,  0.        ,  0.        ,  0.        ,\n",
       "          0.        ,  0.        ,  0.        ,  0.        ],\n",
       "        [ 0.        ,  0.        ,  0.        ,  0.        ,\n",
       "          0.        ,  0.        ,  0.        ,  0.        ,\n",
       "          0.        ,  0.        ,  0.        ,  0.        ],\n",
       "        [ 0.        ,  0.        ,  0.        ,  0.        ,\n",
       "          0.        ,  0.        ,  0.        ,  0.        ,\n",
       "          0.        ,  0.        ,  0.        ,  0.        ]],\n",
       "\n",
       "       [[ 0.        ,  0.        ,  0.        ,  0.        ,\n",
       "          0.        ,  0.        ,  0.        ,  0.        ,\n",
       "          0.        ,  0.        ,  0.        ,  0.        ],\n",
       "        [ 0.        ,  0.        ,  0.        ,  0.        ,\n",
       "          0.        ,  0.        ,  0.        ,  0.        ,\n",
       "          0.        ,  0.        ,  0.        ,  0.        ],\n",
       "        [ 0.        ,  0.        ,  0.        ,  0.        ,\n",
       "          0.        ,  0.        ,  0.        ,  0.        ,\n",
       "          0.        ,  0.        ,  0.        ,  0.        ],\n",
       "        [ 0.        ,  0.        ,  0.        ,  0.        ,\n",
       "          0.        ,  0.        ,  0.        ,  0.        ,\n",
       "          0.        ,  0.        ,  0.        ,  0.        ],\n",
       "        [ 0.        ,  0.        ,  0.        ,  0.        ,\n",
       "          0.        ,  0.        ,  0.        ,  0.        ,\n",
       "          0.        ,  0.        ,  0.        ,  0.        ],\n",
       "        [ 0.        ,  0.        ,  0.        ,  0.        ,\n",
       "          0.        ,  0.        ,  0.        ,  0.        ,\n",
       "          0.        , -0.01      ,  0.        ,  0.        ],\n",
       "        [ 0.        ,  0.        ,  0.        ,  0.        ,\n",
       "          0.        ,  0.        ,  0.        ,  0.        ,\n",
       "          0.        ,  0.        ,  0.        ,  0.        ],\n",
       "        [ 0.        ,  0.        ,  0.        ,  0.        ,\n",
       "          0.        ,  0.        ,  0.        ,  0.        ,\n",
       "         -0.01      ,  0.        ,  0.        ,  0.        ],\n",
       "        [ 0.        ,  0.        ,  0.        ,  0.        ,\n",
       "          0.        ,  0.        ,  0.        ,  0.        ,\n",
       "          0.        ,  0.        ,  0.        ,  0.        ],\n",
       "        [ 0.        ,  0.        ,  0.        ,  0.        ,\n",
       "          0.        ,  0.        , -0.01      ,  0.        ,\n",
       "          0.        ,  0.        ,  0.        ,  0.        ],\n",
       "        [ 0.        ,  0.        ,  0.        ,  0.        ,\n",
       "          0.        ,  0.        ,  0.        ,  0.        ,\n",
       "          0.        ,  0.        ,  0.        ,  0.        ],\n",
       "        [ 0.        ,  0.        ,  0.        ,  0.        ,\n",
       "          0.        ,  0.        ,  0.        ,  0.        ,\n",
       "          0.        ,  0.        ,  0.        ,  0.        ]]])"
      ]
     },
     "execution_count": 11,
     "metadata": {},
     "output_type": "execute_result"
    }
   ],
   "source": [
    "Q"
   ]
  },
  {
   "cell_type": "code",
   "execution_count": 12,
   "metadata": {},
   "outputs": [
    {
     "data": {
      "text/plain": [
       "4"
      ]
     },
     "execution_count": 12,
     "metadata": {},
     "output_type": "execute_result"
    }
   ],
   "source": [
    "# Q = np.zeros((env.observation_space, env.action_space))\n",
    "env.action_space.n"
   ]
  },
  {
   "cell_type": "code",
   "execution_count": 13,
   "metadata": {},
   "outputs": [],
   "source": [
    "env = gym.make('FrozenLake-v0')"
   ]
  },
  {
   "cell_type": "code",
   "execution_count": 14,
   "metadata": {},
   "outputs": [],
   "source": [
    "Q = np.zeros((env.observation_space.n, env.action_space.n))"
   ]
  },
  {
   "cell_type": "code",
   "execution_count": 15,
   "metadata": {},
   "outputs": [
    {
     "data": {
      "text/plain": [
       "array([[0., 0., 0., 0.],\n",
       "       [0., 0., 0., 0.],\n",
       "       [0., 0., 0., 0.],\n",
       "       [0., 0., 0., 0.],\n",
       "       [0., 0., 0., 0.],\n",
       "       [0., 0., 0., 0.],\n",
       "       [0., 0., 0., 0.],\n",
       "       [0., 0., 0., 0.],\n",
       "       [0., 0., 0., 0.],\n",
       "       [0., 0., 0., 0.],\n",
       "       [0., 0., 0., 0.],\n",
       "       [0., 0., 0., 0.],\n",
       "       [0., 0., 0., 0.],\n",
       "       [0., 0., 0., 0.],\n",
       "       [0., 0., 0., 0.],\n",
       "       [0., 0., 0., 0.]])"
      ]
     },
     "execution_count": 15,
     "metadata": {},
     "output_type": "execute_result"
    }
   ],
   "source": [
    "Q"
   ]
  },
  {
   "cell_type": "code",
   "execution_count": 16,
   "metadata": {},
   "outputs": [
    {
     "data": {
      "text/plain": [
       "[0.0, 0.0, 0.0, 0.0]"
      ]
     },
     "execution_count": 16,
     "metadata": {},
     "output_type": "execute_result"
    }
   ],
   "source": [
    "from collections import defaultdict\n",
    "q_table = defaultdict(lambda: [0.0, 0.0, 0.0, 0.0])\n",
    "q_table[tuple([10,10]),4]"
   ]
  },
  {
   "cell_type": "code",
   "execution_count": 17,
   "metadata": {},
   "outputs": [
    {
     "ename": "TypeError",
     "evalue": "'tuple' object cannot be interpreted as an integer",
     "output_type": "error",
     "traceback": [
      "\u001b[0;31m------------------------------------------------------------------------\u001b[0m",
      "\u001b[0;31mTypeError\u001b[0m                              Traceback (most recent call last)",
      "\u001b[0;32m<ipython-input-17-ca68928ba1dd>\u001b[0m in \u001b[0;36m<module>\u001b[0;34m\u001b[0m\n\u001b[0;32m----> 1\u001b[0;31m \u001b[0mq\u001b[0m \u001b[0;34m=\u001b[0m \u001b[0mnp\u001b[0m\u001b[0;34m.\u001b[0m\u001b[0mzeros\u001b[0m\u001b[0;34m(\u001b[0m\u001b[0;34m[\u001b[0m\u001b[0mtuple\u001b[0m\u001b[0;34m(\u001b[0m\u001b[0;34m[\u001b[0m\u001b[0;36m12\u001b[0m\u001b[0;34m,\u001b[0m\u001b[0;36m12\u001b[0m\u001b[0;34m]\u001b[0m\u001b[0;34m)\u001b[0m\u001b[0;34m,\u001b[0m\u001b[0;36m0\u001b[0m\u001b[0;34m]\u001b[0m\u001b[0;34m)\u001b[0m\u001b[0;34m\u001b[0m\u001b[0m\n\u001b[0m",
      "\u001b[0;31mTypeError\u001b[0m: 'tuple' object cannot be interpreted as an integer"
     ]
    }
   ],
   "source": [
    "q = np.zeros([tuple([12,12]),0]) "
   ]
  },
  {
   "cell_type": "code",
   "execution_count": null,
   "metadata": {},
   "outputs": [],
   "source": [
    "q = np.zeros([12,12,4])\n",
    "q[11,11][2]"
   ]
  },
  {
   "cell_type": "code",
   "execution_count": null,
   "metadata": {},
   "outputs": [],
   "source": [
    "q[2,11,11]\n",
    "s = np.array([11,11])\n",
    "print(s.shape)\n",
    "s = np.squeeze(s,1)\n",
    "print(s.shape)\n"
   ]
  },
  {
   "cell_type": "code",
   "execution_count": null,
   "metadata": {},
   "outputs": [],
   "source": [
    "Q = np.ones([4,12,12])\n",
    "Q[1,11,11] = 5\n",
    "Q[2,5,5] = 4\n",
    "np.argmax(Q,axis=0)"
   ]
  },
  {
   "cell_type": "code",
   "execution_count": null,
   "metadata": {},
   "outputs": [],
   "source": []
  }
 ],
 "metadata": {
  "kernelspec": {
   "display_name": "Python 3",
   "language": "python",
   "name": "python3"
  },
  "language_info": {
   "codemirror_mode": {
    "name": "ipython",
    "version": 3
   },
   "file_extension": ".py",
   "mimetype": "text/x-python",
   "name": "python",
   "nbconvert_exporter": "python",
   "pygments_lexer": "ipython3",
   "version": "3.5.2"
  }
 },
 "nbformat": 4,
 "nbformat_minor": 2
}
