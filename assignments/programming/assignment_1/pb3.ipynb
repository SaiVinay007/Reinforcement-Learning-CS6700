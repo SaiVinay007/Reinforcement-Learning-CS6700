{
 "cells": [
  {
   "cell_type": "code",
   "execution_count": 25,
   "metadata": {},
   "outputs": [],
   "source": [
    "import numpy as np\n",
    "from matplotlib import pyplot as plt"
   ]
  },
  {
   "cell_type": "code",
   "execution_count": 39,
   "metadata": {},
   "outputs": [],
   "source": [
    "def UCB1(k, steps, runs, true_values, c):\n",
    "    avg = np.zeros([steps])\n",
    "    opt = np.zeros([steps])\n",
    "    \n",
    "    optimal_arm = np.argmax(true_values,axis = 1)\n",
    "    \n",
    "    for i in range(runs):   \n",
    "        '''\n",
    "        Expected rewards of each arm. Each arm has a value and the number of times it has been pulled.\n",
    "        ''' \n",
    "        exp_val = np.zeros([k,2])   \n",
    "        '''\n",
    "        Pull each arm once\n",
    "        '''\n",
    "        upper_bounds = []\n",
    "        for j in range(steps):\n",
    "            \n",
    "            if j<k:\n",
    "                '''\n",
    "                Pulling each once.\n",
    "                '''\n",
    "                reward = np.random.normal(true_values[i][j],1)  \n",
    "                \n",
    "                exp_val[j][1] += 1\n",
    "#                 print(reward)\n",
    "                exp_val[j][0] += reward\n",
    "                            \n",
    "            else:\n",
    "                '''\n",
    "                Selecting the arm which has highest upper confidence bound\n",
    "                '''\n",
    "                upper_bounds = exp_val[:,0] + np.sqrt(c*np.log(j)/exp_val[:,1])\n",
    "                max_arm = np.argmax(upper_bounds)\n",
    "                reward = np.random.normal(true_values[i][max_arm],1)\n",
    "                \n",
    "                exp_val[max_arm][1] += 1\n",
    "                exp_val[max_arm][0] = (exp_val[max_arm][0]*(exp_val[max_arm][1]-1)+reward)/exp_val[max_arm][1]         \n",
    "#                 upper_bounds[max_arm] = exp_val[max_arm][0] + np.sqrt(c*np.log(j)/exp_val[max_arm][1]) \n",
    "                \n",
    "                \n",
    "                if optimal_arm[i] == max_arm:\n",
    "                    opt[j]+=1\n",
    "\n",
    "        \n",
    "            avg[j] += reward\n",
    "            \n",
    "    avg = np.divide(avg, runs)\n",
    "    opt = np.divide(opt, runs/100)\n",
    "        \n",
    "    return avg, opt\n",
    "    \n",
    "    "
   ]
  },
  {
   "cell_type": "code",
   "execution_count": 40,
   "metadata": {},
   "outputs": [],
   "source": [
    "def plot_fig(avg, opt):\n",
    "    \n",
    "    fig1=plt.figure()\n",
    "    fig2=plt.figure()\n",
    "\n",
    "    fig1 = fig1.add_axes([0.1, 0.1, 0.6, 0.75])\n",
    "    fig2 = fig2.add_axes([0.1, 0.1, 0.6, 0.75])\n",
    "\n",
    "    x = np.zeros([len(avg)])\n",
    "    for i in range(1,steps+1):\n",
    "        x[i-1] = i\n",
    "\n",
    "    fig1.plot(x, avg, 'r')\n",
    "\n",
    "    fig2.plot(x, opt, 'b')\n",
    "\n",
    "    fig1.title.set_text('UCB1 : Average Reward Vs Steps for 10 arms')\n",
    "    fig1.set_ylabel('Average Reward')\n",
    "    fig1.set_xlabel('Steps')\n",
    "    fig1.set_ylim(-0.5,1.6)\n",
    "    fig1.legend(bbox_to_anchor=(1.05, 1), loc=2, borderaxespad=0.)\n",
    "\n",
    "    fig2.title.set_text('UCB1 : $\\%$ Optimal Action Vs Steps for 10 arms')\n",
    "    fig2.set_ylabel(r'$\\%$ Optimal Action')\n",
    "    fig2.set_xlabel('Steps')\n",
    "    fig2.set_ylim(0,100)\n",
    "    fig2.legend(bbox_to_anchor=(1.05, 1), loc=2, borderaxespad=0.)\n",
    "\n",
    "    fig1 = fig1.get_figure()\n",
    "    fig2 = fig2.get_figure()\n",
    "\n",
    "    # fig1.savefig('fig1.jpg')\n",
    "    # fig2.savefig('fig2.jpg')\n",
    "    plt.show()"
   ]
  },
  {
   "cell_type": "code",
   "execution_count": 41,
   "metadata": {},
   "outputs": [],
   "source": [
    "from pb1 import Epsilon_greedy\n",
    "\n",
    "def compare_epsilon_ucb(true_values):\n",
    "    steps = 1000\n",
    "    runs = 2000\n",
    "    epsilons = [0.1]\n",
    "    k = 10\n",
    "    mean = 0\n",
    "    std_dev = 1\n",
    "    c = 2\n",
    "    \n",
    "    avg_epsi,_ = Epsilon_greedy(k, epsilons[0], steps, runs, true_values)\n",
    "    avg_ucb,_  =  UCB1(k, steps, runs, true_values, c)\n",
    "    \n",
    "    plt.plot(range(len(avg_epsi)), avg_epsi, 'r', label = \"$\\epsilon$ = \" + str(epsilons[0]) )\n",
    "    plt.plot(range(len(avg_ucb)), avg_ucb, 'k', label = \"UCB1\")\n",
    "    \n",
    "    plt.xlabel('Steps', fontsize = 15)\n",
    "    plt.ylabel('Average reward', fontsize = 15)\n",
    "    plt.title('Comparition between epsilon greedy and UCB1', fontsize = 15)\n",
    "    plt.legend(bbox_to_anchor=(1.05, 1), loc=2, borderaxespad=0.)\n",
    "    plt.ylim(0, 1.6)\n",
    "\n",
    "\n",
    "    plt.show()\n",
    "    \n",
    "    "
   ]
  },
  {
   "cell_type": "code",
   "execution_count": 43,
   "metadata": {},
   "outputs": [
    {
     "data": {
      "image/png": "[encoded data removed]",
      "text/plain": [
       "<Figure size 432x288 with 1 Axes>"
      ]
     },
     "metadata": {},
     "output_type": "display_data"
    }
   ],
   "source": [
    "import math\n",
    "if __name__ == '__main__':\n",
    "    steps = 1000\n",
    "    runs = 2000\n",
    "    k = 10\n",
    "    mean = 0\n",
    "    std_dev = 1\n",
    "    c = 2\n",
    "    true_values = np.random.normal(mean, std_dev, (runs, k))\n",
    "\n",
    "#     avg, opt = UCB1(k, steps, runs, true_values, c)\n",
    "#     plot_fig(avg, opt)\n",
    "\n",
    "    compare_epsilon_ucb(true_values)\n",
    "    "
   ]
  },
  {
   "cell_type": "code",
   "execution_count": 38,
   "metadata": {},
   "outputs": [
    {
     "name": "stdout",
     "output_type": "stream",
     "text": [
      "[1. 1. 1. 1. 1. 1. 1. 1. 1. 1.]\n",
      "[3.23606798 3.23606798 3.23606798 3.23606798 3.23606798 3.23606798\n",
      " 3.23606798 3.23606798 3.23606798 3.23606798]\n"
     ]
    }
   ],
   "source": [
    "n = np.array([[1,2,3,4],\n",
    "              [9,8,7,6]])\n",
    "a = np.ones([10,2])\n",
    "print(a[:,0])\n",
    "\n",
    "\n",
    "b = a[:,0] + np.sqrt(5/a[:,1])\n",
    "print(b)"
   ]
  },
  {
   "cell_type": "code",
   "execution_count": null,
   "metadata": {},
   "outputs": [],
   "source": []
  }
 ],
 "metadata": {
  "kernelspec": {
   "display_name": "Python 3",
   "language": "python",
   "name": "python3"
  },
  "language_info": {
   "codemirror_mode": {
    "name": "ipython",
    "version": 3
   },
   "file_extension": ".py",
   "mimetype": "text/x-python",
   "name": "python",
   "nbconvert_exporter": "python",
   "pygments_lexer": "ipython3",
   "version": "3.5.2"
  }
 },
 "nbformat": 4,
 "nbformat_minor": 2
}
