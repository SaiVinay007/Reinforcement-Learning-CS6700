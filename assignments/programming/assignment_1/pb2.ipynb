{
 "cells": [
  {
   "cell_type": "code",
   "execution_count": 1,
   "metadata": {},
   "outputs": [],
   "source": [
    "import numpy as np\n",
    "from matplotlib import pyplot as plt"
   ]
  },
  {
   "cell_type": "code",
   "execution_count": 110,
   "metadata": {},
   "outputs": [],
   "source": [
    "def Softmax(k, steps, runs, true_values, temp):\n",
    "    \n",
    "    avg = np.zeros([steps])\n",
    "    opt = np.zeros([steps])\n",
    "    \n",
    "    opt_arm = np.argmax(true_values, axis=1)\n",
    "    for i in range(runs):\n",
    "        \n",
    "        exp_val = np.zeros([k,2])\n",
    "        \n",
    "        for j in range(steps):\n",
    "            softmax = (np.exp(exp_val[:,0]/temp))/np.sum(np.exp(exp_val[:,0]/temp)) # gets softmax probabilities of all arms\n",
    "            sf_arm = np.random.choice(range(k), 1, p = softmax ) # picks one arm based on probabilities\n",
    "            sf_arm = np.squeeze(sf_arm)\n",
    "\n",
    "            reward = np.random.normal(true_values[i][sf_arm],1)\n",
    "           \n",
    "            exp_val[sf_arm][1] += 1\n",
    "            exp_val[sf_arm][0] = ((exp_val[sf_arm][0])*(exp_val[sf_arm][1]-1) + reward)/exp_val[sf_arm][1] # average of the values of arm\n",
    "        \n",
    "            avg[j]+=reward\n",
    "#             if j%50==0:\n",
    "#                 print(reward)\n",
    "            \n",
    "            if sf_arm == opt_arm[i]:\n",
    "                opt[j]+=1\n",
    "            \n",
    "            \n",
    "    avg = np.divide(avg, runs)\n",
    "    opt = np.divide(opt, runs/100)\n",
    "    \n",
    "    return avg, opt"
   ]
  },
  {
   "cell_type": "code",
   "execution_count": 111,
   "metadata": {},
   "outputs": [],
   "source": [
    "def plot_fig(avg, opt):\n",
    "    \n",
    "    fig1=plt.figure()\n",
    "    fig2=plt.figure()\n",
    "\n",
    "    fig1 = fig1.add_axes([0.1, 0.1, 0.6, 0.75])\n",
    "    fig2 = fig2.add_axes([0.1, 0.1, 0.6, 0.75])\n",
    "\n",
    "    x = np.zeros([len(avg)])\n",
    "    for i in range(1,steps+1):\n",
    "        x[i-1] = i\n",
    "\n",
    "    fig1.plot(x, avg, 'r')\n",
    "\n",
    "    fig2.plot(x, opt, 'b')\n",
    "\n",
    "    fig1.title.set_text('Softmax : Average Reward Vs Steps for 10 arms')\n",
    "    fig1.set_ylabel('Average Reward')\n",
    "    fig1.set_xlabel('Steps')\n",
    "    fig1.set_ylim(-0.5,1.6)\n",
    "    fig1.legend(bbox_to_anchor=(1.05, 1), loc=2, borderaxespad=0.)\n",
    "\n",
    "    fig2.title.set_text('softmax : $\\%$ Optimal Action Vs Steps for 10 arms')\n",
    "    fig2.set_ylabel(r'$\\%$ Optimal Action')\n",
    "    fig2.set_xlabel('Steps')\n",
    "    fig2.set_ylim(0,100)\n",
    "    fig2.legend(bbox_to_anchor=(1.05, 1), loc=2, borderaxespad=0.)\n",
    "\n",
    "    fig1 = fig1.get_figure()\n",
    "    fig2 = fig2.get_figure()\n",
    "\n",
    "    # fig1.savefig('fig1.jpg')\n",
    "    # fig2.savefig('fig2.jpg')\n",
    "    plt.show()"
   ]
  },
  {
   "cell_type": "code",
   "execution_count": 112,
   "metadata": {},
   "outputs": [
    {
     "name": "stderr",
     "output_type": "stream",
     "text": [
      "/home/saivinay/.local/lib/python3.5/site-packages/ipykernel_launcher.py:19: RuntimeWarning: divide by zero encountered in double_scalars\n",
      "No handles with labels found to put in legend.\n",
      "No handles with labels found to put in legend.\n"
     ]
    },
    {
     "data": {
      "image/png": "[encoded data removed]",
      "text/plain": [
       "<Figure size 432x288 with 1 Axes>"
      ]
     },
     "metadata": {},
     "output_type": "display_data"
    },
    {
     "data": {
      "image/png": "[encoded data removed]",
      "text/plain": [
       "<Figure size 432x288 with 1 Axes>"
      ]
     },
     "metadata": {},
     "output_type": "display_data"
    }
   ],
   "source": [
    "if __name__ == '__main__':\n",
    "    steps = 1000\n",
    "    runs = 100\n",
    "    k = 10\n",
    "    mean = 0\n",
    "    std_dev = 1\n",
    "    \n",
    "    true_values = np.random.normal(mean, std_dev, (runs, k))\n",
    "    temparatures = [0.01, 0.1, 1, 10]\n",
    "    \n",
    "    avg, opt = Softmax(k, steps, runs, true_values, temparatures[1])\n",
    "    plot_fig(avg, opt)\n",
    "    \n",
    "    \n",
    "#     colors = ['g', 'r', 'b', 'k', 'y','m', 'c']\n",
    "\n",
    "#     for i in range(len(temparatures)):\n",
    "#         avg, opt = Softmax(k, steps, runs, true_values, temparatures[i])\n",
    "        "
   ]
  },
  {
   "cell_type": "code",
   "execution_count": 22,
   "metadata": {},
   "outputs": [
    {
     "name": "stdout",
     "output_type": "stream",
     "text": [
      "(3, 2)\n"
     ]
    }
   ],
   "source": [
    "n = np.array([[10,1],[4,5],[6,7]])\n",
    "print(n.shape)\n",
    "temp =1\n",
    "softmax = (np.exp(n[:,0]/temp))/np.sum(np.exp(n[:,0]/temp)) # gets softmax probabilities of all arms\n",
    "softmax\n",
    "n[2][1]+=1"
   ]
  },
  {
   "cell_type": "code",
   "execution_count": 94,
   "metadata": {},
   "outputs": [
    {
     "name": "stdout",
     "output_type": "stream",
     "text": [
      "4\n",
      "0.0\n"
     ]
    }
   ],
   "source": [
    "x = np.zeros([10,2])\n",
    "temp = 1\n",
    "softmax = (np.exp(x[:,0]/temp))/np.sum(np.exp(x[:,0]/temp)) # gets softmax probabilities of all arms\n",
    "sf_arm = np.random.choice(range(10), 1, p = softmax ) # picks one arm based on probabilities\n",
    "sf_arm = np.squeeze(sf_arm)\n",
    "print(sf_arm)\n",
    "# print(x[s])\n",
    "print( x[sf_arm][1])\n",
    "# a = x[:,0]\n",
    "# print(x[0])"
   ]
  },
  {
   "cell_type": "code",
   "execution_count": 105,
   "metadata": {},
   "outputs": [],
   "source": [
    "temparatures = [0.01, 0.1, 1, 10]\n",
    "temp = temparatures[1]\n",
    "softmax = (np.exp(x[:,0]/temp))/np.sum(np.exp(x[:,0]/temp)) # gets softmax probabilities of all arms\n"
   ]
  },
  {
   "cell_type": "code",
   "execution_count": null,
   "metadata": {},
   "outputs": [],
   "source": []
  }
 ],
 "metadata": {
  "kernelspec": {
   "display_name": "Python 3",
   "language": "python",
   "name": "python3"
  },
  "language_info": {
   "codemirror_mode": {
    "name": "ipython",
    "version": 3
   },
   "file_extension": ".py",
   "mimetype": "text/x-python",
   "name": "python",
   "nbconvert_exporter": "python",
   "pygments_lexer": "ipython3",
   "version": "3.5.2"
  }
 },
 "nbformat": 4,
 "nbformat_minor": 2
}
